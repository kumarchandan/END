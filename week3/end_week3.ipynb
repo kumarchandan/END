{
  "nbformat": 4,
  "nbformat_minor": 0,
  "metadata": {
    "colab": {
      "name": "end-week3.ipynb",
      "provenance": [],
      "collapsed_sections": [],
      "authorship_tag": "ABX9TyOPAk/3ge7/14fti6cZ1+HF",
      "include_colab_link": true
    },
    "kernelspec": {
      "name": "python3",
      "display_name": "Python 3"
    }
  },
  "cells": [
    {
      "cell_type": "markdown",
      "metadata": {
        "id": "view-in-github",
        "colab_type": "text"
      },
      "source": [
        "<a href=\"https://colab.research.google.com/github/kumarchandan/END/blob/main/week3/end_week3.ipynb\" target=\"_parent\"><img src=\"https://colab.research.google.com/assets/colab-badge.svg\" alt=\"Open In Colab\"/></a>"
      ]
    },
    {
      "cell_type": "markdown",
      "metadata": {
        "id": "i0ezLHPBhEe6"
      },
      "source": [
        "# Assignment 3"
      ]
    },
    {
      "cell_type": "markdown",
      "metadata": {
        "id": "FPPFDO270sgZ"
      },
      "source": [
        "### Import libraries"
      ]
    },
    {
      "cell_type": "code",
      "metadata": {
        "id": "eQw7s2gp0r4h"
      },
      "source": [
        "import random\n",
        "import pandas as pd\n",
        "import string\n",
        "from functools import reduce"
      ],
      "execution_count": 1,
      "outputs": []
    },
    {
      "cell_type": "markdown",
      "metadata": {
        "id": "QRYDzs-1gHwq"
      },
      "source": [
        "### Q1. \n",
        "\n",
        "Write a function using only list filter lambda that can tell whether a number is a Fibonacci number or not. You can use a pre-calculated list/dict to store fab numbers till 10000"
      ]
    },
    {
      "cell_type": "code",
      "metadata": {
        "id": "sDugD1i6faaL",
        "outputId": "478b442e-a9f7-4ae0-9c43-4b67abae4928",
        "colab": {
          "base_uri": "https://localhost:8080/"
        }
      },
      "source": [
        "fibo_list = [0 , 1]\n",
        "\n",
        "# Generate a few Fibonacci numbers\n",
        "while fibo_list[-1] < 10000:\n",
        "  fibo_list.append(fibo_list[-1] + fibo_list[-2])\n",
        "\n",
        "is_fibo = lambda input: len(list(filter(lambda num: num == input, fibo_list))) > 0\n",
        "\n",
        "is_fibo(13)"
      ],
      "execution_count": 2,
      "outputs": [
        {
          "output_type": "execute_result",
          "data": {
            "text/plain": [
              "True"
            ]
          },
          "metadata": {
            "tags": []
          },
          "execution_count": 2
        }
      ]
    },
    {
      "cell_type": "markdown",
      "metadata": {
        "id": "8JG67C8igRhn"
      },
      "source": [
        "### Q2.\n",
        "Using list comprehension (and zip/lambda/etc if required) write five different expressions that:\n",
        "\n",
        "####1. add 2 iterables a and b such that a is even and b is odd"
      ]
    },
    {
      "cell_type": "code",
      "metadata": {
        "id": "APiCCSSlS_IV",
        "outputId": "6b8b2966-2207-44c6-ac3f-916c158f0438",
        "colab": {
          "base_uri": "https://localhost:8080/"
        }
      },
      "source": [
        "even_num_list = filter(lambda x: x%2 == 0, range(10, 20))\n",
        "odd_num_list = filter(lambda x: x%2 != 0, range(0, 10))\n",
        "\n",
        "sum = [even_num + odd_num for (even_num, odd_num) in zip(even_num_list, odd_num_list)]\n",
        "print(sum)"
      ],
      "execution_count": 3,
      "outputs": [
        {
          "output_type": "stream",
          "text": [
            "[11, 15, 19, 23, 27]\n"
          ],
          "name": "stdout"
        }
      ]
    },
    {
      "cell_type": "markdown",
      "metadata": {
        "id": "atLVrqY_6Rcu"
      },
      "source": [
        "#### 2. strips every vowel from a string provided (tsai>>t s)"
      ]
    },
    {
      "cell_type": "code",
      "metadata": {
        "id": "5TyLjPMrKImf",
        "outputId": "baa84a7d-235a-40ba-cd91-816325342a8a",
        "colab": {
          "base_uri": "https://localhost:8080/",
          "height": 35
        }
      },
      "source": [
        "''.join(list(filter(lambda elem: elem not in ['a', 'e', 'i', 'o', 'u', 'A', 'E', 'I', 'O', 'U'], 'The quick brown fox jumps over the lazy dog THE QUICK BROWN FOX JUMPS OVER THE LAZY DOG')))"
      ],
      "execution_count": 4,
      "outputs": [
        {
          "output_type": "execute_result",
          "data": {
            "application/vnd.google.colaboratory.intrinsic+json": {
              "type": "string"
            },
            "text/plain": [
              "'Th qck brwn fx jmps vr th lzy dg TH QCK BRWN FX JMPS VR TH LZY DG'"
            ]
          },
          "metadata": {
            "tags": []
          },
          "execution_count": 4
        }
      ]
    },
    {
      "cell_type": "markdown",
      "metadata": {
        "id": "CEiaWZPb6blN"
      },
      "source": [
        "####3. acts like a ReLU function for a 1D array"
      ]
    },
    {
      "cell_type": "code",
      "metadata": {
        "id": "bJABzKJG7-gJ"
      },
      "source": [
        "rand_list = [random.uniform(-1, 1) for _ in range(10)]"
      ],
      "execution_count": 5,
      "outputs": []
    },
    {
      "cell_type": "code",
      "metadata": {
        "id": "j01NfWuJTwYp",
        "outputId": "1e6e7d48-bb58-4e25-9461-de45bf3498ec",
        "colab": {
          "base_uri": "https://localhost:8080/"
        }
      },
      "source": [
        "[num if num > 0 else 0 for num in rand_list]"
      ],
      "execution_count": 15,
      "outputs": [
        {
          "output_type": "execute_result",
          "data": {
            "text/plain": [
              "[0,\n",
              " 0,\n",
              " 0,\n",
              " 0.5689705769505207,\n",
              " 0,\n",
              " 0,\n",
              " 0,\n",
              " 0.25801387085074623,\n",
              " 0.4462690565709555,\n",
              " 0.7698954576115355]"
            ]
          },
          "metadata": {
            "tags": []
          },
          "execution_count": 15
        }
      ]
    },
    {
      "cell_type": "markdown",
      "metadata": {
        "id": "EMc9oo9z6ftY"
      },
      "source": [
        "####4. acts like a sigmoid function for a 1D array"
      ]
    },
    {
      "cell_type": "code",
      "metadata": {
        "id": "C3b2p7fdtPb4",
        "outputId": "de4e4880-b7ad-4092-f1ae-10f0e8c4dad0",
        "colab": {
          "base_uri": "https://localhost:8080/"
        }
      },
      "source": [
        "[num if num >= 0 else -1 for num in rand_list]"
      ],
      "execution_count": 16,
      "outputs": [
        {
          "output_type": "execute_result",
          "data": {
            "text/plain": [
              "[-1,\n",
              " -1,\n",
              " -1,\n",
              " 0.5689705769505207,\n",
              " -1,\n",
              " -1,\n",
              " -1,\n",
              " 0.25801387085074623,\n",
              " 0.4462690565709555,\n",
              " 0.7698954576115355]"
            ]
          },
          "metadata": {
            "tags": []
          },
          "execution_count": 16
        }
      ]
    },
    {
      "cell_type": "markdown",
      "metadata": {
        "id": "Y3OAX-hX6m_B"
      },
      "source": [
        "####5. takes a small character string and shifts all characters by 5 (handle boundary conditions) tsai>>yxfn"
      ]
    },
    {
      "cell_type": "code",
      "metadata": {
        "id": "UcExDHbWNSQE",
        "outputId": "6927863e-9fe4-43dc-9d63-61e72b486aa2",
        "colab": {
          "base_uri": "https://localhost:8080/",
          "height": 35
        }
      },
      "source": [
        "''.join([chr(ord(char) + 5) for char in 'tsai'])"
      ],
      "execution_count": 8,
      "outputs": [
        {
          "output_type": "execute_result",
          "data": {
            "application/vnd.google.colaboratory.intrinsic+json": {
              "type": "string"
            },
            "text/plain": [
              "'yxfn'"
            ]
          },
          "metadata": {
            "tags": []
          },
          "execution_count": 8
        }
      ]
    },
    {
      "cell_type": "markdown",
      "metadata": {
        "id": "e4b-LqC7grbq"
      },
      "source": [
        "###Q3.\n",
        "A list comprehension expression that takes a ~200 word paragraph (write your own paragraph to check), and checks whether it has any of the swear words mentioned in https://github.com/RobertJGabriel/Google-profanity-words/blob/master/list.txt"
      ]
    },
    {
      "cell_type": "code",
      "metadata": {
        "id": "AADicE6NgoXf",
        "outputId": "c85fe5e7-4f51-48a1-d45b-396d24c5d977",
        "colab": {
          "base_uri": "https://localhost:8080/"
        }
      },
      "source": [
        "para = \"Stranded. Yes, she was now the first fucked person ever to land on the mofo Venus, but that was of little consequence. Her fatass name would be read by millions in school as the first to land here, but that celebrity would never actually be seen by that whore. She looked at the control panel and knew there was nothing that would ever get it back into working order. She was the first and it was not clear this would also be her last.\"\n",
        "\n",
        "url = 'https://raw.githubusercontent.com/RobertJGabriel/Google-profanity-words/master/list.txt'\n",
        "\n",
        "swear_words = pd.read_csv(url, header=None)\n",
        "swear_words = swear_words[0].to_list()\n",
        "\n",
        "[x for x in para.split() if x in swear_words]"
      ],
      "execution_count": 19,
      "outputs": [
        {
          "output_type": "execute_result",
          "data": {
            "text/plain": [
              "['fucked', 'mofo', 'fatass']"
            ]
          },
          "metadata": {
            "tags": []
          },
          "execution_count": 19
        }
      ]
    },
    {
      "cell_type": "markdown",
      "metadata": {
        "id": "adVfcTVogvc7"
      },
      "source": [
        "###Q4.\n",
        "Using reduce functions:\n",
        "\n",
        "####1. add only even numbers in a list"
      ]
    },
    {
      "cell_type": "code",
      "metadata": {
        "id": "gWILp8TGg1ae",
        "outputId": "c3e9d7f1-9d9a-431c-ad8f-9107e41218e6",
        "colab": {
          "base_uri": "https://localhost:8080/"
        }
      },
      "source": [
        "reduce(lambda num1, num2: num1 + num2 , filter(lambda x: x%2 == 0 ,range(0, 7)))"
      ],
      "execution_count": 10,
      "outputs": [
        {
          "output_type": "execute_result",
          "data": {
            "text/plain": [
              "12"
            ]
          },
          "metadata": {
            "tags": []
          },
          "execution_count": 10
        }
      ]
    },
    {
      "cell_type": "markdown",
      "metadata": {
        "id": "IcBoJXwG8oXQ"
      },
      "source": [
        "####2. find the biggest character in a string (printable ascii characters)"
      ]
    },
    {
      "cell_type": "code",
      "metadata": {
        "id": "AyfLWoZSTZE8",
        "outputId": "041036d4-cfa7-4ada-a0d4-91d370b363b6",
        "colab": {
          "base_uri": "https://localhost:8080/",
          "height": 35
        }
      },
      "source": [
        "# Find biggest character by it's ascii order\n",
        "def find_biggest_char(a, b):\n",
        "  if ord(a) > ord(b):\n",
        "    return a\n",
        "  else:\n",
        "    return b\n",
        "\n",
        "reduce(find_biggest_char, 'we always have a choice!')"
      ],
      "execution_count": 11,
      "outputs": [
        {
          "output_type": "execute_result",
          "data": {
            "application/vnd.google.colaboratory.intrinsic+json": {
              "type": "string"
            },
            "text/plain": [
              "'y'"
            ]
          },
          "metadata": {
            "tags": []
          },
          "execution_count": 11
        }
      ]
    },
    {
      "cell_type": "markdown",
      "metadata": {
        "id": "xUSaa6zt8tfZ"
      },
      "source": [
        "####3. adds every 3rd number in a list"
      ]
    },
    {
      "cell_type": "code",
      "metadata": {
        "id": "UMtnDf_xU1-M",
        "outputId": "80c0160b-0bc4-4361-b7e1-88673c7b6e57",
        "colab": {
          "base_uri": "https://localhost:8080/"
        }
      },
      "source": [
        "def add_every_third(total, idx_value):\n",
        "  idx, value = idx_value\n",
        "\n",
        "  if(idx % 3 == 0):\n",
        "    return total + value\n",
        "  else:\n",
        "    return total\n",
        "\n",
        "reduce(add_every_third, enumerate(range(1, 11)), 0) # enumerate returns: (index, value)"
      ],
      "execution_count": 12,
      "outputs": [
        {
          "output_type": "execute_result",
          "data": {
            "text/plain": [
              "22"
            ]
          },
          "metadata": {
            "tags": []
          },
          "execution_count": 12
        }
      ]
    },
    {
      "cell_type": "markdown",
      "metadata": {
        "id": "CY2fVy7Dg4J7"
      },
      "source": [
        "###Q5.\n",
        "Using randint, random.choice and list comprehensions, write an expression that generates 15 random KADDAADDDD number plates, where KA is fixed, D stands for a digit, and A stands for Capital alphabets. 10<<DD<<99 & 1000<<DDDD<<9999"
      ]
    },
    {
      "cell_type": "code",
      "metadata": {
        "id": "Kb76WnvBg4_z",
        "outputId": "a3502cfa-3aa0-4a06-85ad-caad27cc6b03",
        "colab": {
          "base_uri": "https://localhost:8080/"
        }
      },
      "source": [
        "\n",
        "\n",
        "cap_alphabets = [char for char in string.ascii_uppercase]\n",
        "\n",
        "def gen_num_plate():\n",
        "  initials = 'KA'\n",
        "  two_digit = str(random.randint(11, 98))\n",
        "  two_alpha = ''.join(random.choices(cap_alphabets, k=2))\n",
        "  four_digit = str(random.randint(1001, 9998))\n",
        "  new_plate = initials + two_digit + two_alpha + four_digit\n",
        "  return new_plate\n",
        "\n",
        "[gen_num_plate() for _ in range(15)]"
      ],
      "execution_count": 13,
      "outputs": [
        {
          "output_type": "execute_result",
          "data": {
            "text/plain": [
              "['KA39GM3578',\n",
              " 'KA84NR4460',\n",
              " 'KA88RN8164',\n",
              " 'KA50BC7563',\n",
              " 'KA15SE9627',\n",
              " 'KA52FX4870',\n",
              " 'KA95RO7750',\n",
              " 'KA46NM6037',\n",
              " 'KA75YC9511',\n",
              " 'KA91AC1583',\n",
              " 'KA61JU4458',\n",
              " 'KA73VA1430',\n",
              " 'KA53DE2051',\n",
              " 'KA81TD3318',\n",
              " 'KA39NU4780']"
            ]
          },
          "metadata": {
            "tags": []
          },
          "execution_count": 13
        }
      ]
    },
    {
      "cell_type": "markdown",
      "metadata": {
        "id": "LPyrnJzfg7xj"
      },
      "source": [
        "###Q6.\n",
        "Write the above again from scratch where KA can be changed to DL, and 1000/9999 ranges can be provided."
      ]
    },
    {
      "cell_type": "code",
      "metadata": {
        "id": "rSxyEQfCg-Yh",
        "outputId": "f46a67ae-a91a-4d2d-d221-87dd872b4890",
        "colab": {
          "base_uri": "https://localhost:8080/"
        }
      },
      "source": [
        "cap_alphabets = [char for char in string.ascii_uppercase]\n",
        "\n",
        "def gen_num_plate(initials='KA', lower_lim=1001, upper_lim=9998):\n",
        "  two_digit = str(random.randint(11, 98))\n",
        "  two_alpha = ''.join(random.choices(cap_alphabets, k=2))\n",
        "  four_digit = str(random.randint(lower_lim, upper_lim))\n",
        "  new_plate = initials + two_digit + two_alpha + four_digit\n",
        "  return new_plate\n",
        "\n",
        "[gen_num_plate('DL', 1000, 9999) for _ in range(15)]"
      ],
      "execution_count": 21,
      "outputs": [
        {
          "output_type": "execute_result",
          "data": {
            "text/plain": [
              "['DL84GW1639',\n",
              " 'DL53FS7565',\n",
              " 'DL19NT2050',\n",
              " 'DL81HU3556',\n",
              " 'DL77TG4665',\n",
              " 'DL86AP8396',\n",
              " 'DL46LY8075',\n",
              " 'DL62BS3167',\n",
              " 'DL72KB7689',\n",
              " 'DL78HD2582',\n",
              " 'DL41PE5674',\n",
              " 'DL55ME5067',\n",
              " 'DL27BF1457',\n",
              " 'DL89TV5310',\n",
              " 'DL77DL1230']"
            ]
          },
          "metadata": {
            "tags": []
          },
          "execution_count": 21
        }
      ]
    }
  ]
}