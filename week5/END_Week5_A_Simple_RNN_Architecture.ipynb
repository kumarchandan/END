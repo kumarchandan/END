{
  "nbformat": 4,
  "nbformat_minor": 0,
  "metadata": {
    "colab": {
      "name": "END-Week5-A-Simple-RNN-Architecture.ipynb",
      "provenance": [],
      "authorship_tag": "ABX9TyPBC+4eBNQj0jjEApGqvXJO",
      "include_colab_link": true
    },
    "kernelspec": {
      "name": "python3",
      "display_name": "Python 3"
    }
  },
  "cells": [
    {
      "cell_type": "markdown",
      "metadata": {
        "id": "view-in-github",
        "colab_type": "text"
      },
      "source": [
        "<a href=\"https://colab.research.google.com/github/kumarchandan/END/blob/main/week5/END_Week5_A_Simple_RNN_Architecture.ipynb\" target=\"_parent\"><img src=\"https://colab.research.google.com/assets/colab-badge.svg\" alt=\"Open In Colab\"/></a>"
      ]
    },
    {
      "cell_type": "code",
      "metadata": {
        "id": "DrsL7cS7qpYr"
      },
      "source": [
        "import torch.nn as nn\n",
        "import torch\n",
        "import torch.nn.functional as F\n",
        "import random"
      ],
      "execution_count": null,
      "outputs": []
    },
    {
      "cell_type": "code",
      "metadata": {
        "id": "tX6gTqAgq2tr"
      },
      "source": [
        "class RNN(nn.Module):\n",
        "\n",
        "  def __init__(self, input_size, hidden_size, output_size):\n",
        "    super(RNN, self).__init__()\n",
        "\n",
        "    self.hidden_size = hidden_size\n",
        "    combined_size = input_size + hidden_size\n",
        "\n",
        "    self.i2o = nn.Linear(in_features=combined_size, out_features=output_size)\n",
        "    self.i2h = nn.Linear(in_features=combined_size, out_features=hidden_size)\n",
        "    self.softmax = nn.LogSoftmax(dim=1)\n",
        "\n",
        "  def forward(self, input, hidden):\n",
        "    combined = torch.cat((input, hidden), 1)\n",
        "    hidden = self.i2h(combined)\n",
        "    output = self.i2o(combined)\n",
        "    # output = F.log_softmax(output, dim=1)\n",
        "    output = self.softmax(output)\n",
        "    return output, hidden\n",
        "  \n",
        "  def init_hidden(self):\n",
        "    return torch.zeros(1, self.hidden_size)\n"
      ],
      "execution_count": null,
      "outputs": []
    },
    {
      "cell_type": "code",
      "metadata": {
        "colab": {
          "base_uri": "https://localhost:8080/"
        },
        "id": "rJm7Ip_P4Kh3",
        "outputId": "5d140cba-f29d-4d4e-ba42-db1222c92d58"
      },
      "source": [
        "nums_100_d = [random.uniform(-1, 1) for _ in range(100)]\n",
        "nums_100_d = torch.tensor(nums_100_d, dtype=torch.float32)\n",
        "nums_100_d"
      ],
      "execution_count": null,
      "outputs": [
        {
          "output_type": "execute_result",
          "data": {
            "text/plain": [
              "tensor([-0.0098, -0.0904, -0.1876,  0.6314, -0.9233,  0.9932, -0.4938,  0.6721,\n",
              "        -0.8296, -0.3257,  0.4087, -0.9696,  0.1318, -0.4193,  0.2771,  0.6943,\n",
              "        -0.3485, -0.7394,  0.8429,  0.8746, -0.9097,  0.6531, -0.0307,  0.8592,\n",
              "        -0.4523,  0.4106,  0.4909,  0.4636, -0.7892, -0.8531,  0.9051,  0.6851,\n",
              "        -0.1676,  0.6025, -0.0323, -0.3062, -0.1137,  0.1712,  0.5129, -0.5560,\n",
              "         0.1798,  0.1116, -0.9480, -0.9832, -0.9105, -0.6807,  0.4917,  0.2509,\n",
              "         0.4051, -0.5154,  0.9073,  0.6424, -0.7017, -0.6270,  0.7876,  0.4146,\n",
              "         0.5120,  0.3227, -0.3916,  0.6135, -0.0373,  0.1945,  0.9497, -0.9487,\n",
              "        -0.0544, -0.3659,  0.3914,  0.3574,  0.2701, -0.9460,  0.2318, -0.0255,\n",
              "        -0.1697, -0.6487,  0.2103,  0.1571, -0.9926, -0.8650,  0.5392,  0.0668,\n",
              "         0.7831,  0.0745, -0.3385, -0.2780, -0.1953,  0.7324,  0.1217,  0.5963,\n",
              "        -0.3331, -0.2787,  0.9263,  0.8527,  0.3301, -0.8136, -0.1006, -0.9970,\n",
              "        -0.3414, -0.3903,  0.2854,  0.8441])"
            ]
          },
          "metadata": {
            "tags": []
          },
          "execution_count": 27
        }
      ]
    },
    {
      "cell_type": "code",
      "metadata": {
        "colab": {
          "base_uri": "https://localhost:8080/"
        },
        "id": "3athCqwR7o2c",
        "outputId": "f4af77d2-2965-44d5-c7c7-833957ad2efa"
      },
      "source": [
        "nums_100_d.size()[0]"
      ],
      "execution_count": null,
      "outputs": [
        {
          "output_type": "execute_result",
          "data": {
            "text/plain": [
              "100"
            ]
          },
          "metadata": {
            "tags": []
          },
          "execution_count": 39
        }
      ]
    },
    {
      "cell_type": "code",
      "metadata": {
        "colab": {
          "base_uri": "https://localhost:8080/"
        },
        "id": "rOpBefHos8Wr",
        "outputId": "b8101f80-6449-44f3-ada6-69fede1a99eb"
      },
      "source": [
        "n_letters = nums_100_d\n",
        "n_hidden = 10\n",
        "n_categories = 2\n",
        "rnn = RNN(n_letters.size()[0], n_hidden, n_categories)\n",
        "rnn"
      ],
      "execution_count": null,
      "outputs": [
        {
          "output_type": "execute_result",
          "data": {
            "text/plain": [
              "RNN(\n",
              "  (i2o): Linear(in_features=110, out_features=2, bias=True)\n",
              "  (i2h): Linear(in_features=110, out_features=10, bias=True)\n",
              "  (softmax): LogSoftmax(dim=1)\n",
              ")"
            ]
          },
          "metadata": {
            "tags": []
          },
          "execution_count": 41
        }
      ]
    }
  ]
}