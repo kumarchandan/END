{
  "nbformat": 4,
  "nbformat_minor": 0,
  "metadata": {
    "colab": {
      "name": "END Week 14 - Copy of English to Python with gensim v1.ipynb",
      "provenance": [],
      "collapsed_sections": [],
      "include_colab_link": true
    },
    "kernelspec": {
      "display_name": "Python 3",
      "name": "python3"
    },
    "accelerator": "GPU",
    "widgets": {
      "application/vnd.jupyter.widget-state+json": {
        "6d5dc86b84b74e9883a0ca1becfa7be7": {
          "model_module": "@jupyter-widgets/controls",
          "model_name": "HBoxModel",
          "state": {
            "_view_name": "HBoxView",
            "_dom_classes": [],
            "_model_name": "HBoxModel",
            "_view_module": "@jupyter-widgets/controls",
            "_model_module_version": "1.5.0",
            "_view_count": null,
            "_view_module_version": "1.5.0",
            "box_style": "",
            "layout": "IPY_MODEL_f1326b55ce5643378058c7546751a956",
            "_model_module": "@jupyter-widgets/controls",
            "children": [
              "IPY_MODEL_871183d1638a4fe68762c62ffcf240bb",
              "IPY_MODEL_2f62f3d55dd44fc6928ed43f967fd241"
            ]
          }
        },
        "f1326b55ce5643378058c7546751a956": {
          "model_module": "@jupyter-widgets/base",
          "model_name": "LayoutModel",
          "state": {
            "_view_name": "LayoutView",
            "grid_template_rows": null,
            "right": null,
            "justify_content": null,
            "_view_module": "@jupyter-widgets/base",
            "overflow": null,
            "_model_module_version": "1.2.0",
            "_view_count": null,
            "flex_flow": null,
            "width": null,
            "min_width": null,
            "border": null,
            "align_items": null,
            "bottom": null,
            "_model_module": "@jupyter-widgets/base",
            "top": null,
            "grid_column": null,
            "overflow_y": null,
            "overflow_x": null,
            "grid_auto_flow": null,
            "grid_area": null,
            "grid_template_columns": null,
            "flex": null,
            "_model_name": "LayoutModel",
            "justify_items": null,
            "grid_row": null,
            "max_height": null,
            "align_content": null,
            "visibility": null,
            "align_self": null,
            "height": null,
            "min_height": null,
            "padding": null,
            "grid_auto_rows": null,
            "grid_gap": null,
            "max_width": null,
            "order": null,
            "_view_module_version": "1.2.0",
            "grid_template_areas": null,
            "object_position": null,
            "object_fit": null,
            "grid_auto_columns": null,
            "margin": null,
            "display": null,
            "left": null
          }
        },
        "871183d1638a4fe68762c62ffcf240bb": {
          "model_module": "@jupyter-widgets/controls",
          "model_name": "FloatProgressModel",
          "state": {
            "_view_name": "ProgressView",
            "style": "IPY_MODEL_3b21f9795a3a47a1bb9a6770b9d9f9f7",
            "_dom_classes": [],
            "description": "100%",
            "_model_name": "FloatProgressModel",
            "bar_style": "success",
            "max": 10034,
            "_view_module": "@jupyter-widgets/controls",
            "_model_module_version": "1.5.0",
            "value": 10034,
            "_view_count": null,
            "_view_module_version": "1.5.0",
            "orientation": "horizontal",
            "min": 0,
            "description_tooltip": null,
            "_model_module": "@jupyter-widgets/controls",
            "layout": "IPY_MODEL_be95b61d79974cb4962ba6e22eca3cc5"
          }
        },
        "2f62f3d55dd44fc6928ed43f967fd241": {
          "model_module": "@jupyter-widgets/controls",
          "model_name": "HTMLModel",
          "state": {
            "_view_name": "HTMLView",
            "style": "IPY_MODEL_03b76f26dbae42d48fe159f3382fba13",
            "_dom_classes": [],
            "description": "",
            "_model_name": "HTMLModel",
            "placeholder": "​",
            "_view_module": "@jupyter-widgets/controls",
            "_model_module_version": "1.5.0",
            "value": " 10034/10034 [11:26&lt;00:00, 14.62it/s]",
            "_view_count": null,
            "_view_module_version": "1.5.0",
            "description_tooltip": null,
            "_model_module": "@jupyter-widgets/controls",
            "layout": "IPY_MODEL_8cacbd1bd639499eab3dea58d9c0947f"
          }
        },
        "3b21f9795a3a47a1bb9a6770b9d9f9f7": {
          "model_module": "@jupyter-widgets/controls",
          "model_name": "ProgressStyleModel",
          "state": {
            "_view_name": "StyleView",
            "_model_name": "ProgressStyleModel",
            "description_width": "initial",
            "_view_module": "@jupyter-widgets/base",
            "_model_module_version": "1.5.0",
            "_view_count": null,
            "_view_module_version": "1.2.0",
            "bar_color": null,
            "_model_module": "@jupyter-widgets/controls"
          }
        },
        "be95b61d79974cb4962ba6e22eca3cc5": {
          "model_module": "@jupyter-widgets/base",
          "model_name": "LayoutModel",
          "state": {
            "_view_name": "LayoutView",
            "grid_template_rows": null,
            "right": null,
            "justify_content": null,
            "_view_module": "@jupyter-widgets/base",
            "overflow": null,
            "_model_module_version": "1.2.0",
            "_view_count": null,
            "flex_flow": null,
            "width": null,
            "min_width": null,
            "border": null,
            "align_items": null,
            "bottom": null,
            "_model_module": "@jupyter-widgets/base",
            "top": null,
            "grid_column": null,
            "overflow_y": null,
            "overflow_x": null,
            "grid_auto_flow": null,
            "grid_area": null,
            "grid_template_columns": null,
            "flex": null,
            "_model_name": "LayoutModel",
            "justify_items": null,
            "grid_row": null,
            "max_height": null,
            "align_content": null,
            "visibility": null,
            "align_self": null,
            "height": null,
            "min_height": null,
            "padding": null,
            "grid_auto_rows": null,
            "grid_gap": null,
            "max_width": null,
            "order": null,
            "_view_module_version": "1.2.0",
            "grid_template_areas": null,
            "object_position": null,
            "object_fit": null,
            "grid_auto_columns": null,
            "margin": null,
            "display": null,
            "left": null
          }
        },
        "03b76f26dbae42d48fe159f3382fba13": {
          "model_module": "@jupyter-widgets/controls",
          "model_name": "DescriptionStyleModel",
          "state": {
            "_view_name": "StyleView",
            "_model_name": "DescriptionStyleModel",
            "description_width": "",
            "_view_module": "@jupyter-widgets/base",
            "_model_module_version": "1.5.0",
            "_view_count": null,
            "_view_module_version": "1.2.0",
            "_model_module": "@jupyter-widgets/controls"
          }
        },
        "8cacbd1bd639499eab3dea58d9c0947f": {
          "model_module": "@jupyter-widgets/base",
          "model_name": "LayoutModel",
          "state": {
            "_view_name": "LayoutView",
            "grid_template_rows": null,
            "right": null,
            "justify_content": null,
            "_view_module": "@jupyter-widgets/base",
            "overflow": null,
            "_model_module_version": "1.2.0",
            "_view_count": null,
            "flex_flow": null,
            "width": null,
            "min_width": null,
            "border": null,
            "align_items": null,
            "bottom": null,
            "_model_module": "@jupyter-widgets/base",
            "top": null,
            "grid_column": null,
            "overflow_y": null,
            "overflow_x": null,
            "grid_auto_flow": null,
            "grid_area": null,
            "grid_template_columns": null,
            "flex": null,
            "_model_name": "LayoutModel",
            "justify_items": null,
            "grid_row": null,
            "max_height": null,
            "align_content": null,
            "visibility": null,
            "align_self": null,
            "height": null,
            "min_height": null,
            "padding": null,
            "grid_auto_rows": null,
            "grid_gap": null,
            "max_width": null,
            "order": null,
            "_view_module_version": "1.2.0",
            "grid_template_areas": null,
            "object_position": null,
            "object_fit": null,
            "grid_auto_columns": null,
            "margin": null,
            "display": null,
            "left": null
          }
        }
      }
    }
  },
  "cells": [
    {
      "cell_type": "markdown",
      "metadata": {
        "id": "view-in-github",
        "colab_type": "text"
      },
      "source": [
        "<a href=\"https://colab.research.google.com/github/kumarchandan/END/blob/main/week14/English-to-Python-Code-v2.ipynb\" target=\"_parent\"><img src=\"https://colab.research.google.com/assets/colab-badge.svg\" alt=\"Open In Colab\"/></a>"
      ]
    },
    {
      "cell_type": "markdown",
      "metadata": {
        "id": "7WCu5yqVaWBr"
      },
      "source": [
        "# Capstone Project\n",
        "### Train a model to generate python code from english text"
      ]
    },
    {
      "cell_type": "code",
      "metadata": {
        "colab": {
          "base_uri": "https://localhost:8080/"
        },
        "id": "sUJsBhjdTdTM",
        "outputId": "04918cf6-347d-4270-a1a7-ad821fe54238"
      },
      "source": [
        "!nvidia-smi"
      ],
      "execution_count": 203,
      "outputs": [
        {
          "output_type": "stream",
          "text": [
            "Mon Mar 22 18:59:34 2021       \n",
            "+-----------------------------------------------------------------------------+\n",
            "| NVIDIA-SMI 460.56       Driver Version: 460.32.03    CUDA Version: 11.2     |\n",
            "|-------------------------------+----------------------+----------------------+\n",
            "| GPU  Name        Persistence-M| Bus-Id        Disp.A | Volatile Uncorr. ECC |\n",
            "| Fan  Temp  Perf  Pwr:Usage/Cap|         Memory-Usage | GPU-Util  Compute M. |\n",
            "|                               |                      |               MIG M. |\n",
            "|===============================+======================+======================|\n",
            "|   0  Tesla T4            Off  | 00000000:00:04.0 Off |                    0 |\n",
            "| N/A   57C    P0    29W /  70W |   5156MiB / 15109MiB |      0%      Default |\n",
            "|                               |                      |                  N/A |\n",
            "+-------------------------------+----------------------+----------------------+\n",
            "                                                                               \n",
            "+-----------------------------------------------------------------------------+\n",
            "| Processes:                                                                  |\n",
            "|  GPU   GI   CI        PID   Type   Process name                  GPU Memory |\n",
            "|        ID   ID                                                   Usage      |\n",
            "|=============================================================================|\n",
            "+-----------------------------------------------------------------------------+\n"
          ],
          "name": "stdout"
        }
      ]
    },
    {
      "cell_type": "markdown",
      "metadata": {
        "id": "hUzfPRDOa0Ew"
      },
      "source": [
        "### Load libraries"
      ]
    },
    {
      "cell_type": "code",
      "metadata": {
        "id": "T-mOljzdcIZL"
      },
      "source": [
        "import torch\n",
        "import torch.nn as nn\n",
        "import torch.optim as optim\n",
        "\n",
        "import torchtext\n",
        "from torchtext import data\n",
        "from torchtext.legacy.data import Field, BucketIterator, TabularDataset\n",
        "\n",
        "import matplotlib.pyplot as plt\n",
        "import matplotlib.ticker as ticker\n",
        "\n",
        "import spacy\n",
        "import gensim\n",
        "import numpy as np\n",
        "\n",
        "import random\n",
        "import math\n",
        "import time\n",
        "import os\n",
        "import tokenize\n",
        "import re\n",
        "import pandas as pd\n",
        "import csv\n",
        "from tqdm import tqdm_notebook\n",
        "from tokenize import tokenize, untokenize\n",
        "import io"
      ],
      "execution_count": 100,
      "outputs": []
    },
    {
      "cell_type": "code",
      "metadata": {
        "colab": {
          "base_uri": "https://localhost:8080/",
          "height": 35
        },
        "id": "5WZWgUq7N0Qn",
        "outputId": "2fd38a01-1ff1-4c90-b3b2-f910018f91c5"
      },
      "source": [
        "torchtext.__version__"
      ],
      "execution_count": 2,
      "outputs": [
        {
          "output_type": "execute_result",
          "data": {
            "application/vnd.google.colaboratory.intrinsic+json": {
              "type": "string"
            },
            "text/plain": [
              "'0.9.0'"
            ]
          },
          "metadata": {
            "tags": []
          },
          "execution_count": 2
        }
      ]
    },
    {
      "cell_type": "code",
      "metadata": {
        "id": "XnvuehOPVoHM"
      },
      "source": [
        "SEED = 1234\n",
        "\n",
        "random.seed(SEED)\n",
        "np.random.seed(SEED)\n",
        "torch.manual_seed(SEED)\n",
        "torch.cuda.manual_seed(SEED)\n",
        "torch.backends.cudnn.deterministic = True"
      ],
      "execution_count": 3,
      "outputs": []
    },
    {
      "cell_type": "code",
      "metadata": {
        "colab": {
          "base_uri": "https://localhost:8080/"
        },
        "id": "HCx1Pa9uVqcO",
        "outputId": "cc8c64bd-613b-49c3-8ff5-3bec683a914d"
      },
      "source": [
        "from google.colab import drive\n",
        "drive.mount('/content/drive')"
      ],
      "execution_count": 4,
      "outputs": [
        {
          "output_type": "stream",
          "text": [
            "Drive already mounted at /content/drive; to attempt to forcibly remount, call drive.mount(\"/content/drive\", force_remount=True).\n"
          ],
          "name": "stdout"
        }
      ]
    },
    {
      "cell_type": "markdown",
      "metadata": {
        "id": "c1UTpnAaSUlp"
      },
      "source": [
        "### Load data"
      ]
    },
    {
      "cell_type": "code",
      "metadata": {
        "id": "wYRncG2sPvbS",
        "colab": {
          "base_uri": "https://localhost:8080/"
        },
        "outputId": "3d3557b4-c27c-4f25-d9e1-cdd2a9c3478d"
      },
      "source": [
        "corpus_name = 'english-python'\n",
        "corpus = os.path.join('/content/drive/MyDrive/1-Projects/END/week14/', corpus_name)\n",
        "\n",
        "def printLines(file,):\n",
        "  count = 0\n",
        "  with open(file, 'rb') as f:\n",
        "    for line in f:\n",
        "      print(line)\n",
        "      count += 1\n",
        "      if count == 10: break\n",
        "\n",
        "printLines(os.path.join(corpus, 'data_refined_v1.txt'))"
      ],
      "execution_count": 5,
      "outputs": [
        {
          "output_type": "stream",
          "text": [
            "b'# write a python program to add two numbers\\n'\n",
            "b'num1 = 1.5\\n'\n",
            "b'num2 = 6.3\\n'\n",
            "b'sum = num1 + num2\\n'\n",
            "b\"print(f'Sum: {sum}')\\n\"\n",
            "b'\\n'\n",
            "b'\\n'\n",
            "b'# write a python function to add two user provided numbers and return the sum\\n'\n",
            "b'def add_two_numbers(num1, num2):\\n'\n",
            "b'    sum = num1 + num2\\n'\n"
          ],
          "name": "stdout"
        }
      ]
    },
    {
      "cell_type": "code",
      "metadata": {
        "id": "wcPoWVXRYqbT"
      },
      "source": [
        "corpus_name = 'english-python'\n",
        "corpus = os.path.join('/content/drive/MyDrive/1-Projects/END/week14/', corpus_name)\n",
        "\n",
        "def extractQnAPair(file):\n",
        "  qna_pair_list = []\n",
        "  qna_pair = { 'src': '', 'trg': ''}\n",
        "  count = 0\n",
        "  regex = r\"#\"\n",
        "  str = ''\n",
        "  with open(file, 'r') as f:\n",
        "    for line in f:\n",
        "      line = line.lower()\n",
        "      line = re.sub(r'\"#[0123456789]','#', line)\n",
        "      line = line.replace(\"\\n\\n\",\"\\n\")\n",
        "      line = line.replace(\"\\n\\n\\n\",\"\\n\\n\")\n",
        "      ques_found = re.search(regex, line)\n",
        "      if ques_found:\n",
        "        if (qna_pair['src'] and qna_pair['trg']): qna_pair_list.append(qna_pair)\n",
        "        qna_pair = { 'src': '', 'trg': ''}\n",
        "        qna_pair['id'] = count\n",
        "        qna_pair['src'] = line\n",
        "        qna_pair['trg'] = ''\n",
        "        count += 1\n",
        "      else:\n",
        "        qna_pair['trg'] += line\n",
        "  return qna_pair_list\n",
        "\n",
        "qna_pair_list = extractQnAPair(os.path.join(corpus, 'data_refined_v1.txt'))"
      ],
      "execution_count": 6,
      "outputs": []
    },
    {
      "cell_type": "code",
      "metadata": {
        "colab": {
          "base_uri": "https://localhost:8080/"
        },
        "id": "496BinUxV7U5",
        "outputId": "eee54a29-769f-40a4-c3b4-060b1f5c4211"
      },
      "source": [
        "len(qna_pair_list), qna_pair_list[0]"
      ],
      "execution_count": 7,
      "outputs": [
        {
          "output_type": "execute_result",
          "data": {
            "text/plain": [
              "(4445,\n",
              " {'id': 0,\n",
              "  'src': '# write a python program to add two numbers\\n',\n",
              "  'trg': \"num1 = 1.5\\nnum2 = 6.3\\nsum = num1 + num2\\nprint(f'sum: {sum}')\\n\\n\\n\"})"
            ]
          },
          "metadata": {
            "tags": []
          },
          "execution_count": 7
        }
      ]
    },
    {
      "cell_type": "code",
      "metadata": {
        "colab": {
          "base_uri": "https://localhost:8080/",
          "height": 195
        },
        "id": "1M81ys0DjS1r",
        "outputId": "31b2147e-0999-44cd-96d1-a0eadd0b29f8"
      },
      "source": [
        "df = pd.DataFrame(qna_pair_list)\n",
        "df.head()"
      ],
      "execution_count": 8,
      "outputs": [
        {
          "output_type": "execute_result",
          "data": {
            "text/html": [
              "<div>\n",
              "<style scoped>\n",
              "    .dataframe tbody tr th:only-of-type {\n",
              "        vertical-align: middle;\n",
              "    }\n",
              "\n",
              "    .dataframe tbody tr th {\n",
              "        vertical-align: top;\n",
              "    }\n",
              "\n",
              "    .dataframe thead th {\n",
              "        text-align: right;\n",
              "    }\n",
              "</style>\n",
              "<table border=\"1\" class=\"dataframe\">\n",
              "  <thead>\n",
              "    <tr style=\"text-align: right;\">\n",
              "      <th></th>\n",
              "      <th>src</th>\n",
              "      <th>trg</th>\n",
              "      <th>id</th>\n",
              "    </tr>\n",
              "  </thead>\n",
              "  <tbody>\n",
              "    <tr>\n",
              "      <th>0</th>\n",
              "      <td># write a python program to add two numbers\\n</td>\n",
              "      <td>num1 = 1.5\\nnum2 = 6.3\\nsum = num1 + num2\\npri...</td>\n",
              "      <td>0</td>\n",
              "    </tr>\n",
              "    <tr>\n",
              "      <th>1</th>\n",
              "      <td># write a python function to add two user prov...</td>\n",
              "      <td>def add_two_numbers(num1, num2):\\n    sum = nu...</td>\n",
              "      <td>1</td>\n",
              "    </tr>\n",
              "    <tr>\n",
              "      <th>2</th>\n",
              "      <td># write a program to find and print the larges...</td>\n",
              "      <td>num1 = 10\\nnum2 = 12\\nnum3 = 14\\nif (num1 &gt;= n...</td>\n",
              "      <td>2</td>\n",
              "    </tr>\n",
              "    <tr>\n",
              "      <th>3</th>\n",
              "      <td># write a program to find and print the smalle...</td>\n",
              "      <td>num1 = 10\\nnum2 = 12\\nnum3 = 14\\nif (num1 &lt;= n...</td>\n",
              "      <td>3</td>\n",
              "    </tr>\n",
              "    <tr>\n",
              "      <th>4</th>\n",
              "      <td># write a python function to merge two given l...</td>\n",
              "      <td>def merge_lists(l1, l2):\\n    return l1 + l2\\n...</td>\n",
              "      <td>4</td>\n",
              "    </tr>\n",
              "  </tbody>\n",
              "</table>\n",
              "</div>"
            ],
            "text/plain": [
              "                                                 src  ... id\n",
              "0      # write a python program to add two numbers\\n  ...  0\n",
              "1  # write a python function to add two user prov...  ...  1\n",
              "2  # write a program to find and print the larges...  ...  2\n",
              "3  # write a program to find and print the smalle...  ...  3\n",
              "4  # write a python function to merge two given l...  ...  4\n",
              "\n",
              "[5 rows x 3 columns]"
            ]
          },
          "metadata": {
            "tags": []
          },
          "execution_count": 8
        }
      ]
    },
    {
      "cell_type": "code",
      "metadata": {
        "id": "TVduEzbFV-Th"
      },
      "source": [
        "# print(qna_pair_list[0].keys()) # dict_keys(['question_id', 'question', 'answer'])\n",
        "keys = qna_pair_list[0].keys()\n",
        "\n",
        "shouldExecute = True\n",
        "if shouldExecute:\n",
        "  with open('python_qna.csv', 'w', newline='') as output_file:\n",
        "    dict_writer = csv.DictWriter(output_file, keys)\n",
        "    dict_writer.writeheader()\n",
        "    dict_writer.writerows(qna_pair_list)\n",
        "else:\n",
        "  print('did not execute')"
      ],
      "execution_count": 9,
      "outputs": []
    },
    {
      "cell_type": "code",
      "metadata": {
        "id": "XncIv8MrWW22"
      },
      "source": [
        "!python -m spacy download en"
      ],
      "execution_count": null,
      "outputs": []
    },
    {
      "cell_type": "code",
      "metadata": {
        "id": "Sx240Td3WZYQ"
      },
      "source": [
        "spacy_en = spacy.load('en')"
      ],
      "execution_count": 11,
      "outputs": []
    },
    {
      "cell_type": "code",
      "metadata": {
        "id": "zhWPlLpBWodV"
      },
      "source": [
        "SRC = Field(tokenize = 'spacy', \n",
        "            init_token = '<sos>', \n",
        "            eos_token = '<eos>', \n",
        "            lower = True, \n",
        "            batch_first = True)\n",
        "\n",
        "TRG = Field(tokenize = 'spacy', \n",
        "            init_token = '<sos>', \n",
        "            eos_token = '<eos>', \n",
        "            lower = True, \n",
        "            batch_first = True)\n",
        "\n",
        "fields = [(\"src\", SRC), (\"trg\", TRG)]"
      ],
      "execution_count": 13,
      "outputs": []
    },
    {
      "cell_type": "code",
      "metadata": {
        "id": "v06UtHyjWHrJ"
      },
      "source": [
        "dataset = TabularDataset(\n",
        "    path='python_qna.csv',\n",
        "    format='csv',\n",
        "    fields=fields,\n",
        "    skip_header=True\n",
        ")\n",
        "(train_data, valid_data) = dataset.split(split_ratio=[0.85, 0.15])"
      ],
      "execution_count": 14,
      "outputs": []
    },
    {
      "cell_type": "code",
      "metadata": {
        "colab": {
          "base_uri": "https://localhost:8080/"
        },
        "id": "rzTBHmpkW79R",
        "outputId": "e8c8a886-2b19-4450-f095-9eb4d317c01f"
      },
      "source": [
        "vars(train_data[0])"
      ],
      "execution_count": 15,
      "outputs": [
        {
          "output_type": "execute_result",
          "data": {
            "text/plain": [
              "{'src': ['#',\n",
              "  'write',\n",
              "  'a',\n",
              "  'python',\n",
              "  'program',\n",
              "  'to',\n",
              "  'print',\n",
              "  'the',\n",
              "  'character',\n",
              "  'of',\n",
              "  'an',\n",
              "  'ascii',\n",
              "  'value'],\n",
              " 'trg': ['value',\n",
              "  '=',\n",
              "  '65',\n",
              "  '\\n',\n",
              "  \"print(f'the\",\n",
              "  'ascii',\n",
              "  'value',\n",
              "  '{',\n",
              "  'value',\n",
              "  '}',\n",
              "  'is',\n",
              "  'of',\n",
              "  'the',\n",
              "  'character',\n",
              "  '{',\n",
              "  'chr(value',\n",
              "  ')',\n",
              "  '}',\n",
              "  \"'\",\n",
              "  ')']}"
            ]
          },
          "metadata": {
            "tags": []
          },
          "execution_count": 15
        }
      ]
    },
    {
      "cell_type": "markdown",
      "metadata": {
        "id": "kdk7rek4XEbS"
      },
      "source": [
        "To decide maxlength for encoder and decoder"
      ]
    },
    {
      "cell_type": "code",
      "metadata": {
        "colab": {
          "base_uri": "https://localhost:8080/"
        },
        "id": "RGpviy25W_6W",
        "outputId": "fd08de81-a35d-40ce-b7ec-0506bf159f0c"
      },
      "source": [
        "max_len_src = 0\n",
        "max_len_trg = 0\n",
        "\n",
        "for data in train_data:\n",
        "  if len(data.src) > max_len_src:\n",
        "    max_len_src = len(data.src)\n",
        "  if len(data.trg) > max_len_trg:\n",
        "    max_len_trg = len(data.trg)\n",
        "\n",
        "max_len_src, max_len_trg"
      ],
      "execution_count": 16,
      "outputs": [
        {
          "output_type": "execute_result",
          "data": {
            "text/plain": [
              "(84, 488)"
            ]
          },
          "metadata": {
            "tags": []
          },
          "execution_count": 16
        }
      ]
    },
    {
      "cell_type": "code",
      "metadata": {
        "id": "XJrmd75IXHk0"
      },
      "source": [
        "SRC.build_vocab(train_data, min_freq = 2)\n",
        "TRG.build_vocab(train_data, min_freq = 1)"
      ],
      "execution_count": 17,
      "outputs": []
    },
    {
      "cell_type": "code",
      "metadata": {
        "colab": {
          "base_uri": "https://localhost:8080/"
        },
        "id": "KolQ_bROXVaW",
        "outputId": "21271311-4f31-430c-b187-ab3307e76149"
      },
      "source": [
        "print('Source vocab size: ', len(SRC.vocab))\n",
        "print('Target vocab size: ', len(TRG.vocab))"
      ],
      "execution_count": 18,
      "outputs": [
        {
          "output_type": "stream",
          "text": [
            "Source vocab size:  1509\n",
            "Target vocab size:  10034\n"
          ],
          "name": "stdout"
        }
      ]
    },
    {
      "cell_type": "code",
      "metadata": {
        "colab": {
          "base_uri": "https://localhost:8080/"
        },
        "id": "NB0xXHJpXOPD",
        "outputId": "f899f951-9dc6-4cd4-dba4-a2d616dda7ed"
      },
      "source": [
        "device = torch.device('cuda' if torch.cuda.is_available() else 'cpu')\n",
        "device"
      ],
      "execution_count": 19,
      "outputs": [
        {
          "output_type": "execute_result",
          "data": {
            "text/plain": [
              "device(type='cuda')"
            ]
          },
          "metadata": {
            "tags": []
          },
          "execution_count": 19
        }
      ]
    },
    {
      "cell_type": "code",
      "metadata": {
        "id": "l_6uDZhJXnr5"
      },
      "source": [
        "BATCH_SIZE = 8\n",
        "\n",
        "train_iterator, valid_iterator = BucketIterator.splits(\n",
        "    (train_data, valid_data), \n",
        "     batch_size = BATCH_SIZE,\n",
        "     sort=False,\n",
        "     device = device)"
      ],
      "execution_count": 20,
      "outputs": []
    },
    {
      "cell_type": "code",
      "metadata": {
        "colab": {
          "base_uri": "https://localhost:8080/"
        },
        "id": "vm_ylkdZXx-o",
        "outputId": "ca08a731-5b9e-48fa-cb36-063d1eea858e"
      },
      "source": [
        "vars(train_iterator.dataset.examples[0])"
      ],
      "execution_count": 21,
      "outputs": [
        {
          "output_type": "execute_result",
          "data": {
            "text/plain": [
              "{'src': ['#',\n",
              "  'write',\n",
              "  'a',\n",
              "  'python',\n",
              "  'program',\n",
              "  'to',\n",
              "  'print',\n",
              "  'the',\n",
              "  'character',\n",
              "  'of',\n",
              "  'an',\n",
              "  'ascii',\n",
              "  'value'],\n",
              " 'trg': ['value',\n",
              "  '=',\n",
              "  '65',\n",
              "  '\\n',\n",
              "  \"print(f'the\",\n",
              "  'ascii',\n",
              "  'value',\n",
              "  '{',\n",
              "  'value',\n",
              "  '}',\n",
              "  'is',\n",
              "  'of',\n",
              "  'the',\n",
              "  'character',\n",
              "  '{',\n",
              "  'chr(value',\n",
              "  ')',\n",
              "  '}',\n",
              "  \"'\",\n",
              "  ')']}"
            ]
          },
          "metadata": {
            "tags": []
          },
          "execution_count": 21
        }
      ]
    },
    {
      "cell_type": "markdown",
      "metadata": {
        "id": "xzXYkxNNYCLM"
      },
      "source": [
        "### Code embeddings"
      ]
    },
    {
      "cell_type": "markdown",
      "metadata": {
        "id": "OXdrlWVkbOCT"
      },
      "source": [
        "https://medium.com/@rohit_agrawal/using-fine-tuned-gensim-word2vec-embeddings-with-torchtext-and-pytorch-17eea2883cd"
      ]
    },
    {
      "cell_type": "code",
      "metadata": {
        "id": "2W4664edYBdA"
      },
      "source": [
        "def tokenize_code(text):\n",
        "    \"\"\"\n",
        "    Replace and Tokenize\n",
        "    \"\"\"\n",
        "    text = str(text).replace('\\n', '\\t\\t')\n",
        "    return [tok.text for tok in spacy_en.tokenizer(text)]"
      ],
      "execution_count": 22,
      "outputs": []
    },
    {
      "cell_type": "code",
      "metadata": {
        "id": "udy74YZcZJKp"
      },
      "source": [
        "# WORD2VEC\n",
        "W2V_SIZE = 256\n",
        "W2V_WINDOW = 3\n",
        "# W2V_EPOCH = 100\n",
        "W2V_MIN_COUNT = 2\n",
        "\n",
        "target = []\n",
        "for code in df['trg'].values:\n",
        "  code_token = tokenize_code(code)\n",
        "  target.append(code_token)"
      ],
      "execution_count": 23,
      "outputs": []
    },
    {
      "cell_type": "code",
      "metadata": {
        "colab": {
          "base_uri": "https://localhost:8080/"
        },
        "id": "Z3-guwoEj-BY",
        "outputId": "3c15caff-5666-4a2b-c3ed-6ba4b789344c"
      },
      "source": [
        "target[:1]"
      ],
      "execution_count": 24,
      "outputs": [
        {
          "output_type": "execute_result",
          "data": {
            "text/plain": [
              "[['num1',\n",
              "  '=',\n",
              "  '1.5',\n",
              "  '\\t\\t',\n",
              "  'num2',\n",
              "  '=',\n",
              "  '6.3',\n",
              "  '\\t\\t',\n",
              "  'sum',\n",
              "  '=',\n",
              "  'num1',\n",
              "  '+',\n",
              "  'num2',\n",
              "  '\\t\\t',\n",
              "  \"print(f'sum\",\n",
              "  ':',\n",
              "  '{',\n",
              "  'sum',\n",
              "  '}',\n",
              "  \"'\",\n",
              "  ')',\n",
              "  '\\t\\t\\t\\t\\t\\t']]"
            ]
          },
          "metadata": {
            "tags": []
          },
          "execution_count": 24
        }
      ]
    },
    {
      "cell_type": "code",
      "metadata": {
        "id": "iVkKrTbgj9ED"
      },
      "source": [
        "w2v_model = gensim.models.Word2Vec(target, size=W2V_SIZE, window=W2V_WINDOW, min_count=W2V_MIN_COUNT)"
      ],
      "execution_count": 25,
      "outputs": []
    },
    {
      "cell_type": "code",
      "metadata": {
        "colab": {
          "base_uri": "https://localhost:8080/",
          "height": 203,
          "referenced_widgets": [
            "6d5dc86b84b74e9883a0ca1becfa7be7",
            "f1326b55ce5643378058c7546751a956",
            "871183d1638a4fe68762c62ffcf240bb",
            "2f62f3d55dd44fc6928ed43f967fd241",
            "3b21f9795a3a47a1bb9a6770b9d9f9f7",
            "be95b61d79974cb4962ba6e22eca3cc5",
            "03b76f26dbae42d48fe159f3382fba13",
            "8cacbd1bd639499eab3dea58d9c0947f"
          ]
        },
        "id": "ufiMCNDNlv-K",
        "outputId": "f69473c3-656f-432a-a572-9d8c7618d20b"
      },
      "source": [
        "word2vec_vectors = []\n",
        "\n",
        "for token, idx in tqdm_notebook(TRG.vocab.stoi.items()):\n",
        "  if token in w2v_model.wv.vocab.keys():\n",
        "    word2vec_vectors.append(torch.FloatTensor(w2v_model[token]))\n",
        "  else:\n",
        "    word2vec_vectors.append(torch.zeros(W2V_SIZE))\n",
        "\n",
        "TRG.vocab.set_vectors(TRG.vocab.stoi, word2vec_vectors, W2V_SIZE)"
      ],
      "execution_count": 26,
      "outputs": [
        {
          "output_type": "stream",
          "text": [
            "/usr/local/lib/python3.7/dist-packages/ipykernel_launcher.py:3: TqdmDeprecationWarning: This function will be removed in tqdm==5.0.0\n",
            "Please use `tqdm.notebook.tqdm` instead of `tqdm.tqdm_notebook`\n",
            "  This is separate from the ipykernel package so we can avoid doing imports until\n"
          ],
          "name": "stderr"
        },
        {
          "output_type": "display_data",
          "data": {
            "application/vnd.jupyter.widget-view+json": {
              "model_id": "6d5dc86b84b74e9883a0ca1becfa7be7",
              "version_minor": 0,
              "version_major": 2
            },
            "text/plain": [
              "HBox(children=(FloatProgress(value=0.0, max=10034.0), HTML(value='')))"
            ]
          },
          "metadata": {
            "tags": []
          }
        },
        {
          "output_type": "stream",
          "text": [
            "\n"
          ],
          "name": "stdout"
        },
        {
          "output_type": "stream",
          "text": [
            "/usr/local/lib/python3.7/dist-packages/ipykernel_launcher.py:5: DeprecationWarning: Call to deprecated `__getitem__` (Method will be removed in 4.0.0, use self.wv.__getitem__() instead).\n",
            "  \"\"\"\n",
            "/usr/local/lib/python3.7/dist-packages/ipykernel_launcher.py:5: UserWarning: The given NumPy array is not writeable, and PyTorch does not support non-writeable tensors. This means you can write to the underlying (supposedly non-writeable) NumPy array using the tensor. You may want to copy the array to protect its data or make it writeable before converting it to a tensor. This type of warning will be suppressed for the rest of this program. (Triggered internally at  /pytorch/torch/csrc/utils/tensor_numpy.cpp:143.)\n",
            "  \"\"\"\n"
          ],
          "name": "stderr"
        }
      ]
    },
    {
      "cell_type": "markdown",
      "metadata": {
        "id": "BySvWs4KbSDz"
      },
      "source": [
        "### Build Model"
      ]
    },
    {
      "cell_type": "markdown",
      "metadata": {
        "id": "HgvD_MpkC2OS"
      },
      "source": [
        "![](https://raw.githubusercontent.com/bentrevett/pytorch-seq2seq/9479fcb532214ad26fd4bda9fcf081a05e1aaf4e/assets/transformer-encoder.png)"
      ]
    },
    {
      "cell_type": "code",
      "metadata": {
        "id": "NE6JimgOCz-w"
      },
      "source": [
        "class Encoder(nn.Module):\n",
        "    def __init__(self, \n",
        "                 input_dim, \n",
        "                 hid_dim, \n",
        "                 n_layers, \n",
        "                 n_heads, \n",
        "                 pf_dim,\n",
        "                 dropout, \n",
        "                 device,\n",
        "                 max_length = 250):\n",
        "        super().__init__()\n",
        "\n",
        "        self.device = device\n",
        "        \n",
        "        self.tok_embedding = nn.Embedding(input_dim, hid_dim)\n",
        "        self.pos_embedding = nn.Embedding(max_length, hid_dim)\n",
        "        \n",
        "        self.layers = nn.ModuleList([EncoderLayer(hid_dim, \n",
        "                                                  n_heads, \n",
        "                                                  pf_dim,\n",
        "                                                  dropout, \n",
        "                                                  device) \n",
        "                                     for _ in range(n_layers)])\n",
        "        \n",
        "        self.dropout = nn.Dropout(dropout)\n",
        "        \n",
        "        self.scale = torch.sqrt(torch.FloatTensor([hid_dim])).to(device)\n",
        "        \n",
        "    def forward(self, src, src_mask):\n",
        "        \n",
        "        #src = [batch size, src len]\n",
        "        #src_mask = [batch size, 1, 1, src len]\n",
        "        \n",
        "        batch_size = src.shape[0]\n",
        "        src_len = src.shape[1]\n",
        "\n",
        "        pos = torch.arange(0, src_len).unsqueeze(0).repeat(batch_size, 1).to(self.device)\n",
        "        \n",
        "        #pos = [batch size, src len]\n",
        "        src = self.dropout((self.tok_embedding(src) * self.scale) + self.pos_embedding(pos))\n",
        "        \n",
        "        #src = [batch size, src len, hid dim]\n",
        "        \n",
        "        for layer in self.layers:\n",
        "            src = layer(src, src_mask)\n",
        "            \n",
        "        #src = [batch size, src len, hid dim]\n",
        "            \n",
        "        return src"
      ],
      "execution_count": 28,
      "outputs": []
    },
    {
      "cell_type": "code",
      "metadata": {
        "id": "2LheiXWVFDEg"
      },
      "source": [
        "class EncoderLayer(nn.Module):\n",
        "    def __init__(self, \n",
        "                 hid_dim, \n",
        "                 n_heads, \n",
        "                 pf_dim,  \n",
        "                 dropout, \n",
        "                 device):\n",
        "        super().__init__()\n",
        "        \n",
        "        self.self_attn_layer_norm = nn.LayerNorm(hid_dim)\n",
        "        self.ff_layer_norm = nn.LayerNorm(hid_dim)\n",
        "        self.self_attention = MultiHeadAttentionLayer(hid_dim, n_heads, dropout, device)\n",
        "        self.positionwise_feedforward = PositionwiseFeedforwardLayer(hid_dim, \n",
        "                                                                     pf_dim, \n",
        "                                                                     dropout)\n",
        "        self.dropout = nn.Dropout(dropout)\n",
        "        \n",
        "    def forward(self, src, src_mask):\n",
        "        \n",
        "        #src = [batch size, src len, hid dim]\n",
        "        #src_mask = [batch size, 1, 1, src len] \n",
        "                \n",
        "        #self attention\n",
        "        _src, _ = self.self_attention(src, src, src, src_mask)\n",
        "        \n",
        "        #dropout, residual connection and layer norm\n",
        "        src = self.self_attn_layer_norm(src + self.dropout(_src))\n",
        "        \n",
        "        #src = [batch size, src len, hid dim]\n",
        "        \n",
        "        #positionwise feedforward\n",
        "        _src = self.positionwise_feedforward(src)\n",
        "        \n",
        "        #dropout, residual and layer norm\n",
        "        src = self.ff_layer_norm(src + self.dropout(_src))\n",
        "        \n",
        "        #src = [batch size, src len, hid dim]\n",
        "        \n",
        "        return src"
      ],
      "execution_count": 29,
      "outputs": []
    },
    {
      "cell_type": "code",
      "metadata": {
        "id": "R9w9xDUKL7LU"
      },
      "source": [
        "class PositionwiseFeedforwardLayer(nn.Module):\n",
        "    def __init__(self, hid_dim, pf_dim, dropout):\n",
        "        super().__init__()\n",
        "        \n",
        "        self.fc_1 = nn.Linear(hid_dim, pf_dim)\n",
        "        self.fc_2 = nn.Linear(pf_dim, hid_dim)\n",
        "        \n",
        "        self.dropout = nn.Dropout(dropout)\n",
        "        \n",
        "    def forward(self, x):\n",
        "        \n",
        "        #x = [batch size, seq len, hid dim]\n",
        "        \n",
        "        x = self.dropout(torch.relu(self.fc_1(x)))\n",
        "        \n",
        "        #x = [batch size, seq len, pf dim]\n",
        "        \n",
        "        x = self.fc_2(x)\n",
        "        \n",
        "        #x = [batch size, seq len, hid dim]\n",
        "        \n",
        "        return x"
      ],
      "execution_count": 30,
      "outputs": []
    },
    {
      "cell_type": "code",
      "metadata": {
        "id": "ZZmeHfGhGzkN"
      },
      "source": [
        "class MultiHeadAttentionLayer(nn.Module):\n",
        "    def __init__(self, hid_dim, n_heads, dropout, device):\n",
        "        super().__init__()\n",
        "        \n",
        "        assert hid_dim % n_heads == 0\n",
        "        \n",
        "        self.hid_dim = hid_dim\n",
        "        self.n_heads = n_heads\n",
        "        self.head_dim = hid_dim // n_heads\n",
        "        \n",
        "        self.fc_q = nn.Linear(hid_dim, hid_dim)\n",
        "        self.fc_k = nn.Linear(hid_dim, hid_dim)\n",
        "        self.fc_v = nn.Linear(hid_dim, hid_dim)\n",
        "        \n",
        "        self.fc_o = nn.Linear(hid_dim, hid_dim)\n",
        "        \n",
        "        self.dropout = nn.Dropout(dropout)\n",
        "        \n",
        "        self.scale = torch.sqrt(torch.FloatTensor([self.head_dim])).to(device)\n",
        "        \n",
        "    def forward(self, query, key, value, mask = None):\n",
        "        \n",
        "        batch_size = query.shape[0]\n",
        "        \n",
        "        #query = [batch size, query len, hid dim]\n",
        "        #key = [batch size, key len, hid dim]\n",
        "        #value = [batch size, value len, hid dim]\n",
        "                \n",
        "        Q = self.fc_q(query)\n",
        "        K = self.fc_k(key)\n",
        "        V = self.fc_v(value)\n",
        "        \n",
        "        #Q = [batch size, query len, hid dim]\n",
        "        #K = [batch size, key len, hid dim]\n",
        "        #V = [batch size, value len, hid dim]\n",
        "                \n",
        "        Q = Q.view(batch_size, -1, self.n_heads, self.head_dim).permute(0, 2, 1, 3)\n",
        "        K = K.view(batch_size, -1, self.n_heads, self.head_dim).permute(0, 2, 1, 3)\n",
        "        V = V.view(batch_size, -1, self.n_heads, self.head_dim).permute(0, 2, 1, 3)\n",
        "        \n",
        "        #Q = [batch size, n heads, query len, head dim]\n",
        "        #K = [batch size, n heads, key len, head dim]\n",
        "        #V = [batch size, n heads, value len, head dim]\n",
        "                \n",
        "        energy = torch.matmul(Q, K.permute(0, 1, 3, 2)) / self.scale\n",
        "        \n",
        "        #energy = [batch size, n heads, query len, key len]\n",
        "        \n",
        "        if mask is not None:\n",
        "            energy = energy.masked_fill(mask == 0, -1e10)\n",
        "        \n",
        "        attention = torch.softmax(energy, dim = -1)\n",
        "                \n",
        "        #attention = [batch size, n heads, query len, key len]\n",
        "                \n",
        "        x = torch.matmul(self.dropout(attention), V)\n",
        "        \n",
        "        #x = [batch size, n heads, query len, head dim]\n",
        "        \n",
        "        x = x.permute(0, 2, 1, 3).contiguous()\n",
        "        \n",
        "        #x = [batch size, query len, n heads, head dim]\n",
        "        \n",
        "        x = x.view(batch_size, -1, self.hid_dim)\n",
        "        \n",
        "        #x = [batch size, query len, hid dim]\n",
        "        \n",
        "        x = self.fc_o(x)\n",
        "        \n",
        "        #x = [batch size, query len, hid dim]\n",
        "        \n",
        "        return x, attention"
      ],
      "execution_count": 31,
      "outputs": []
    },
    {
      "cell_type": "markdown",
      "metadata": {
        "id": "ZBFqGg5z-o_r"
      },
      "source": [
        "## Decoder"
      ]
    },
    {
      "cell_type": "markdown",
      "metadata": {
        "id": "YbTr7YPSMRpC"
      },
      "source": [
        "![](https://raw.githubusercontent.com/bentrevett/pytorch-seq2seq/9479fcb532214ad26fd4bda9fcf081a05e1aaf4e/assets/transformer-decoder.png)"
      ]
    },
    {
      "cell_type": "code",
      "metadata": {
        "id": "iWBMMF45MMNS"
      },
      "source": [
        "class Decoder(nn.Module):\n",
        "    def __init__(self, \n",
        "                 output_dim, \n",
        "                 hid_dim, \n",
        "                 n_layers, \n",
        "                 n_heads, \n",
        "                 pf_dim, \n",
        "                 dropout, \n",
        "                 device,\n",
        "                 pre_trained_emb,\n",
        "                 max_length = 500):\n",
        "        super().__init__()\n",
        "        \n",
        "        self.device = device\n",
        "        \n",
        "        self.tok_embedding = nn.Embedding.from_pretrained(pre_trained_emb)\n",
        "        self.pos_embedding = nn.Embedding(max_length, hid_dim)\n",
        "        \n",
        "        self.layers = nn.ModuleList([DecoderLayer(hid_dim, \n",
        "                                                  n_heads, \n",
        "                                                  pf_dim, \n",
        "                                                  dropout, \n",
        "                                                  device)\n",
        "                                     for _ in range(n_layers)])\n",
        "        \n",
        "        self.fc_out = nn.Linear(hid_dim, output_dim)\n",
        "        \n",
        "        self.dropout = nn.Dropout(dropout)\n",
        "        \n",
        "        self.scale = torch.sqrt(torch.FloatTensor([hid_dim])).to(device)\n",
        "        \n",
        "    def forward(self, trg, enc_src, trg_mask, src_mask):\n",
        "        \n",
        "        #trg = [batch size, trg len]\n",
        "        #enc_src = [batch size, src len, hid dim]\n",
        "        #trg_mask = [batch size, 1, trg len, trg len]\n",
        "        #src_mask = [batch size, 1, 1, src len]\n",
        "                \n",
        "        batch_size = trg.shape[0]\n",
        "        trg_len = trg.shape[1]\n",
        "        \n",
        "        pos = torch.arange(0, trg_len).unsqueeze(0).repeat(batch_size, 1).to(self.device)\n",
        "                            \n",
        "        #pos = [batch size, trg len]\n",
        "\n",
        "        trg = self.dropout((self.tok_embedding(trg) * self.scale) + self.pos_embedding(pos))\n",
        "                \n",
        "        #trg = [batch size, trg len, hid dim]\n",
        "        \n",
        "        for layer in self.layers:\n",
        "            trg, attention = layer(trg, enc_src, trg_mask, src_mask)\n",
        "        \n",
        "        #trg = [batch size, trg len, hid dim]\n",
        "        #attention = [batch size, n heads, trg len, src len]\n",
        "        \n",
        "        output = self.fc_out(trg)\n",
        "        \n",
        "        #output = [batch size, trg len, output dim]\n",
        "            \n",
        "        return output, attention"
      ],
      "execution_count": 32,
      "outputs": []
    },
    {
      "cell_type": "code",
      "metadata": {
        "id": "CMEr1IFUMxco"
      },
      "source": [
        "class DecoderLayer(nn.Module):\n",
        "    def __init__(self, \n",
        "                 hid_dim, \n",
        "                 n_heads, \n",
        "                 pf_dim, \n",
        "                 dropout, \n",
        "                 device):\n",
        "        super().__init__()\n",
        "        \n",
        "        self.self_attn_layer_norm = nn.LayerNorm(hid_dim)\n",
        "        self.enc_attn_layer_norm = nn.LayerNorm(hid_dim)\n",
        "        self.ff_layer_norm = nn.LayerNorm(hid_dim)\n",
        "        self.self_attention = MultiHeadAttentionLayer(hid_dim, n_heads, dropout, device)\n",
        "        self.encoder_attention = MultiHeadAttentionLayer(hid_dim, n_heads, dropout, device)\n",
        "        self.positionwise_feedforward = PositionwiseFeedforwardLayer(hid_dim, \n",
        "                                                                     pf_dim, \n",
        "                                                                     dropout)\n",
        "        self.dropout = nn.Dropout(dropout)\n",
        "        \n",
        "    def forward(self, trg, enc_src, trg_mask, src_mask):\n",
        "        \n",
        "        #trg = [batch size, trg len, hid dim]\n",
        "        #enc_src = [batch size, src len, hid dim]\n",
        "        #trg_mask = [batch size, 1, trg len, trg len]\n",
        "        #src_mask = [batch size, 1, 1, src len]\n",
        "        \n",
        "        #self attention\n",
        "        _trg, _ = self.self_attention(trg, trg, trg, trg_mask)\n",
        "        \n",
        "        #dropout, residual connection and layer norm\n",
        "        trg = self.self_attn_layer_norm(trg + self.dropout(_trg))\n",
        "            \n",
        "        #trg = [batch size, trg len, hid dim]\n",
        "            \n",
        "        #encoder attention\n",
        "        _trg, attention = self.encoder_attention(trg, enc_src, enc_src, src_mask)\n",
        "        # query, key, value\n",
        "        \n",
        "        #dropout, residual connection and layer norm\n",
        "        trg = self.enc_attn_layer_norm(trg + self.dropout(_trg))\n",
        "                    \n",
        "        #trg = [batch size, trg len, hid dim]\n",
        "        \n",
        "        #positionwise feedforward\n",
        "        _trg = self.positionwise_feedforward(trg)\n",
        "        \n",
        "        #dropout, residual and layer norm\n",
        "        trg = self.ff_layer_norm(trg + self.dropout(_trg))\n",
        "        \n",
        "        #trg = [batch size, trg len, hid dim]\n",
        "        #attention = [batch size, n heads, trg len, src len]\n",
        "        \n",
        "        return trg, attention"
      ],
      "execution_count": 33,
      "outputs": []
    },
    {
      "cell_type": "code",
      "metadata": {
        "id": "Dr3Mg8OGN6ul"
      },
      "source": [
        "class Seq2Seq(nn.Module):\n",
        "    def __init__(self, \n",
        "                 encoder, \n",
        "                 decoder, \n",
        "                 src_pad_idx, \n",
        "                 trg_pad_idx, \n",
        "                 device):\n",
        "        super().__init__()\n",
        "        \n",
        "        self.encoder = encoder\n",
        "        self.decoder = decoder\n",
        "        self.src_pad_idx = src_pad_idx\n",
        "        self.trg_pad_idx = trg_pad_idx\n",
        "        self.device = device\n",
        "        \n",
        "    def make_src_mask(self, src):\n",
        "        \n",
        "        #src = [batch size, src len]\n",
        "        \n",
        "        src_mask = (src != self.src_pad_idx).unsqueeze(1).unsqueeze(2)\n",
        "\n",
        "        #src_mask = [batch size, 1, 1, src len]\n",
        "\n",
        "        return src_mask\n",
        "    \n",
        "    def make_trg_mask(self, trg):\n",
        "        \n",
        "        #trg = [batch size, trg len]\n",
        "        \n",
        "        trg_pad_mask = (trg != self.trg_pad_idx).unsqueeze(1).unsqueeze(2)\n",
        "        \n",
        "        #trg_pad_mask = [batch size, 1, 1, trg len]\n",
        "        \n",
        "        trg_len = trg.shape[1]\n",
        "        \n",
        "        trg_sub_mask = torch.tril(torch.ones((trg_len, trg_len), device = self.device)).bool()\n",
        "        \n",
        "        #trg_sub_mask = [trg len, trg len]\n",
        "            \n",
        "        trg_mask = trg_pad_mask & trg_sub_mask\n",
        "        \n",
        "        #trg_mask = [batch size, 1, trg len, trg len]\n",
        "        \n",
        "        return trg_mask\n",
        "\n",
        "    def forward(self, src, trg):\n",
        "        \n",
        "        #src = [batch size, src len]\n",
        "        #trg = [batch size, trg len]\n",
        "                \n",
        "        src_mask = self.make_src_mask(src)\n",
        "        trg_mask = self.make_trg_mask(trg)\n",
        "        \n",
        "        #src_mask = [batch size, 1, 1, src len]\n",
        "        #trg_mask = [batch size, 1, trg len, trg len]\n",
        "        \n",
        "        enc_src = self.encoder(src, src_mask)\n",
        "        \n",
        "        #enc_src = [batch size, src len, hid dim]\n",
        "                \n",
        "        output, attention = self.decoder(trg, enc_src, trg_mask, src_mask)\n",
        "        \n",
        "        #output = [batch size, trg len, output dim]\n",
        "        #attention = [batch size, n heads, trg len, src len]\n",
        "        \n",
        "        return output, attention"
      ],
      "execution_count": 34,
      "outputs": []
    },
    {
      "cell_type": "markdown",
      "metadata": {
        "id": "SvrK6zbF_2Fs"
      },
      "source": [
        "### Train the model"
      ]
    },
    {
      "cell_type": "code",
      "metadata": {
        "id": "4zsZjSSWOSHc"
      },
      "source": [
        "INPUT_DIM = len(SRC.vocab)\n",
        "OUTPUT_DIM = len(TRG.vocab)\n",
        "HID_DIM = 256\n",
        "ENC_LAYERS = 3\n",
        "DEC_LAYERS = 3\n",
        "ENC_HEADS = 8\n",
        "DEC_HEADS = 8\n",
        "ENC_PF_DIM = 512\n",
        "DEC_PF_DIM = 512\n",
        "ENC_DROPOUT = 0.1\n",
        "DEC_DROPOUT = 0.1\n",
        "\n",
        "pre_trained_emb = torch.FloatTensor(TRG.vocab.vectors)\n",
        "\n",
        "enc = Encoder(INPUT_DIM, \n",
        "              HID_DIM, \n",
        "              ENC_LAYERS, \n",
        "              ENC_HEADS, \n",
        "              ENC_PF_DIM, \n",
        "              ENC_DROPOUT, \n",
        "              device)\n",
        "\n",
        "dec = Decoder(OUTPUT_DIM,\n",
        "              HID_DIM,\n",
        "              DEC_LAYERS,\n",
        "              DEC_HEADS,\n",
        "              DEC_PF_DIM,\n",
        "              DEC_DROPOUT,\n",
        "              device,\n",
        "              pre_trained_emb)"
      ],
      "execution_count": 35,
      "outputs": []
    },
    {
      "cell_type": "code",
      "metadata": {
        "id": "eSvrFtyQukr-"
      },
      "source": [
        "SRC_PAD_IDX = SRC.vocab.stoi[SRC.pad_token]\n",
        "TRG_PAD_IDX = TRG.vocab.stoi[TRG.pad_token]\n",
        "\n",
        "model = Seq2Seq(enc, dec, SRC_PAD_IDX, TRG_PAD_IDX, device).to(device)"
      ],
      "execution_count": 36,
      "outputs": []
    },
    {
      "cell_type": "code",
      "metadata": {
        "colab": {
          "base_uri": "https://localhost:8080/"
        },
        "id": "Qd0ePzj0OzLa",
        "outputId": "e52fe5e8-870a-464b-9fb7-1d9382368bde"
      },
      "source": [
        "def count_parameters(model):\n",
        "    return sum(p.numel() for p in model.parameters() if p.requires_grad)\n",
        "\n",
        "print(f'The model has {count_parameters(model):,} trainable parameters')"
      ],
      "execution_count": 37,
      "outputs": [
        {
          "output_type": "stream",
          "text": [
            "The model has 7,110,706 trainable parameters\n"
          ],
          "name": "stdout"
        }
      ]
    },
    {
      "cell_type": "code",
      "metadata": {
        "id": "fmZ0hyo8O0vE"
      },
      "source": [
        "def initialize_weights(m):\n",
        "    if hasattr(m, 'weight') and m.weight.dim() > 1:\n",
        "        nn.init.xavier_uniform_(m.weight.data)"
      ],
      "execution_count": 38,
      "outputs": []
    },
    {
      "cell_type": "code",
      "metadata": {
        "id": "NRtAM9Y4O2N2"
      },
      "source": [
        "model.apply(initialize_weights);"
      ],
      "execution_count": 39,
      "outputs": []
    },
    {
      "cell_type": "code",
      "metadata": {
        "id": "NEpApG3YO3ZE"
      },
      "source": [
        "LEARNING_RATE = 0.0005\n",
        "\n",
        "optimizer = torch.optim.Adam(model.parameters(), lr = LEARNING_RATE)"
      ],
      "execution_count": 40,
      "outputs": []
    },
    {
      "cell_type": "code",
      "metadata": {
        "id": "sYT55TZFu3jj"
      },
      "source": [
        "criterion = nn.CrossEntropyLoss(ignore_index = TRG_PAD_IDX)"
      ],
      "execution_count": 41,
      "outputs": []
    },
    {
      "cell_type": "code",
      "metadata": {
        "id": "31-umOq6vDGK"
      },
      "source": [
        "def train(model, iterator, optimizer, criterion, clip):\n",
        "    \n",
        "    model.train()\n",
        "    \n",
        "    epoch_loss = 0\n",
        "    \n",
        "    for i, batch in enumerate(iterator):\n",
        "        \n",
        "        src = batch.src\n",
        "        trg = batch.trg\n",
        "        \n",
        "        optimizer.zero_grad()\n",
        "        \n",
        "        output, _ = model(src, trg[:,:-1])\n",
        "                \n",
        "        #output = [batch size, trg len - 1, output dim]\n",
        "        #trg = [batch size, trg len]\n",
        "            \n",
        "        output_dim = output.shape[-1]\n",
        "            \n",
        "        output = output.contiguous().view(-1, output_dim)\n",
        "        trg = trg[:,1:].contiguous().view(-1)\n",
        "                \n",
        "        #output = [batch size * trg len - 1, output dim]\n",
        "        #trg = [batch size * trg len - 1]\n",
        "            \n",
        "        loss = criterion(output, trg)\n",
        "        \n",
        "        loss.backward()\n",
        "        \n",
        "        torch.nn.utils.clip_grad_norm_(model.parameters(), clip)\n",
        "        \n",
        "        optimizer.step()\n",
        "        \n",
        "        epoch_loss += loss.item()\n",
        "        \n",
        "    return epoch_loss / len(iterator)"
      ],
      "execution_count": 42,
      "outputs": []
    },
    {
      "cell_type": "code",
      "metadata": {
        "id": "zi3Ev8gaO79_"
      },
      "source": [
        "def evaluate(model, iterator, criterion):\n",
        "    \n",
        "    model.eval()\n",
        "    \n",
        "    epoch_loss = 0\n",
        "    \n",
        "    with torch.no_grad():\n",
        "    \n",
        "        for i, batch in enumerate(iterator):\n",
        "\n",
        "            src = batch.src\n",
        "            trg = batch.trg\n",
        "\n",
        "            output, _ = model(src, trg[:,:-1])\n",
        "            \n",
        "            #output = [batch size, trg len - 1, output dim]\n",
        "            #trg = [batch size, trg len]\n",
        "            \n",
        "            output_dim = output.shape[-1]\n",
        "            \n",
        "            output = output.contiguous().view(-1, output_dim)\n",
        "            trg = trg[:,1:].contiguous().view(-1)\n",
        "            \n",
        "            #output = [batch size * trg len - 1, output dim]\n",
        "            #trg = [batch size * trg len - 1]\n",
        "            \n",
        "            loss = criterion(output, trg)\n",
        "\n",
        "            epoch_loss += loss.item()\n",
        "        \n",
        "    return epoch_loss / len(iterator)"
      ],
      "execution_count": 43,
      "outputs": []
    },
    {
      "cell_type": "code",
      "metadata": {
        "id": "JuB4JqQRO9Wg"
      },
      "source": [
        "def epoch_time(start_time, end_time):\n",
        "    elapsed_time = end_time - start_time\n",
        "    elapsed_mins = int(elapsed_time / 60)\n",
        "    elapsed_secs = int(elapsed_time - (elapsed_mins * 60))\n",
        "    return elapsed_mins, elapsed_secs"
      ],
      "execution_count": 44,
      "outputs": []
    },
    {
      "cell_type": "code",
      "metadata": {
        "colab": {
          "base_uri": "https://localhost:8080/"
        },
        "id": "aax76Ie4O_Cr",
        "outputId": "640633bb-fa0b-489d-f9cf-3d4e554af2cd"
      },
      "source": [
        "N_EPOCHS = 40\n",
        "CLIP = 1\n",
        "\n",
        "best_valid_loss = float('inf')\n",
        "\n",
        "for epoch in range(N_EPOCHS):\n",
        "    \n",
        "    start_time = time.time()\n",
        "    \n",
        "    train_loss = train(model, train_iterator, optimizer, criterion, CLIP)\n",
        "    valid_loss = evaluate(model, valid_iterator, criterion)\n",
        "    \n",
        "    end_time = time.time()\n",
        "    \n",
        "    epoch_mins, epoch_secs = epoch_time(start_time, end_time)\n",
        "    \n",
        "    if valid_loss < best_valid_loss:\n",
        "        best_valid_loss = valid_loss\n",
        "        torch.save(model.state_dict(), 'eng-python-model-v1.pt')\n",
        "    \n",
        "    print(f'Epoch: {epoch+1:02} | Time: {epoch_mins}m {epoch_secs}s')\n",
        "    print(f'\\tTrain Loss: {train_loss:.3f} | Train PPL: {math.exp(train_loss):7.3f}')\n",
        "    print(f'\\t Val. Loss: {valid_loss:.3f} |  Val. PPL: {math.exp(valid_loss):7.3f}')"
      ],
      "execution_count": 47,
      "outputs": [
        {
          "output_type": "stream",
          "text": [
            "Epoch: 01 | Time: 0m 16s\n",
            "\tTrain Loss: 3.538 | Train PPL:  34.402\n",
            "\t Val. Loss: 3.375 |  Val. PPL:  29.229\n",
            "Epoch: 02 | Time: 0m 16s\n",
            "\tTrain Loss: 3.084 | Train PPL:  21.851\n",
            "\t Val. Loss: 3.073 |  Val. PPL:  21.596\n",
            "Epoch: 03 | Time: 0m 16s\n",
            "\tTrain Loss: 2.737 | Train PPL:  15.443\n",
            "\t Val. Loss: 2.845 |  Val. PPL:  17.205\n",
            "Epoch: 04 | Time: 0m 16s\n",
            "\tTrain Loss: 2.442 | Train PPL:  11.499\n",
            "\t Val. Loss: 2.689 |  Val. PPL:  14.715\n",
            "Epoch: 05 | Time: 0m 16s\n",
            "\tTrain Loss: 2.193 | Train PPL:   8.966\n",
            "\t Val. Loss: 2.569 |  Val. PPL:  13.057\n",
            "Epoch: 06 | Time: 0m 16s\n",
            "\tTrain Loss: 1.977 | Train PPL:   7.221\n",
            "\t Val. Loss: 2.447 |  Val. PPL:  11.553\n",
            "Epoch: 07 | Time: 0m 16s\n",
            "\tTrain Loss: 1.794 | Train PPL:   6.015\n",
            "\t Val. Loss: 2.383 |  Val. PPL:  10.839\n",
            "Epoch: 08 | Time: 0m 16s\n",
            "\tTrain Loss: 1.644 | Train PPL:   5.175\n",
            "\t Val. Loss: 2.310 |  Val. PPL:  10.074\n",
            "Epoch: 09 | Time: 0m 16s\n",
            "\tTrain Loss: 1.504 | Train PPL:   4.500\n",
            "\t Val. Loss: 2.274 |  Val. PPL:   9.720\n",
            "Epoch: 10 | Time: 0m 16s\n",
            "\tTrain Loss: 1.406 | Train PPL:   4.081\n",
            "\t Val. Loss: 2.242 |  Val. PPL:   9.408\n",
            "Epoch: 11 | Time: 0m 16s\n",
            "\tTrain Loss: 1.312 | Train PPL:   3.715\n",
            "\t Val. Loss: 2.218 |  Val. PPL:   9.193\n",
            "Epoch: 12 | Time: 0m 16s\n",
            "\tTrain Loss: 1.228 | Train PPL:   3.416\n",
            "\t Val. Loss: 2.190 |  Val. PPL:   8.934\n",
            "Epoch: 13 | Time: 0m 16s\n",
            "\tTrain Loss: 1.170 | Train PPL:   3.222\n",
            "\t Val. Loss: 2.192 |  Val. PPL:   8.954\n",
            "Epoch: 14 | Time: 0m 16s\n",
            "\tTrain Loss: 1.108 | Train PPL:   3.029\n",
            "\t Val. Loss: 2.186 |  Val. PPL:   8.898\n",
            "Epoch: 15 | Time: 0m 16s\n",
            "\tTrain Loss: 1.057 | Train PPL:   2.879\n",
            "\t Val. Loss: 2.186 |  Val. PPL:   8.896\n",
            "Epoch: 16 | Time: 0m 16s\n",
            "\tTrain Loss: 1.007 | Train PPL:   2.737\n",
            "\t Val. Loss: 2.166 |  Val. PPL:   8.723\n",
            "Epoch: 17 | Time: 0m 16s\n",
            "\tTrain Loss: 0.968 | Train PPL:   2.632\n",
            "\t Val. Loss: 2.156 |  Val. PPL:   8.634\n",
            "Epoch: 18 | Time: 0m 16s\n",
            "\tTrain Loss: 0.935 | Train PPL:   2.546\n",
            "\t Val. Loss: 2.179 |  Val. PPL:   8.838\n",
            "Epoch: 19 | Time: 0m 16s\n",
            "\tTrain Loss: 0.884 | Train PPL:   2.421\n",
            "\t Val. Loss: 2.167 |  Val. PPL:   8.731\n",
            "Epoch: 20 | Time: 0m 16s\n",
            "\tTrain Loss: 0.861 | Train PPL:   2.366\n",
            "\t Val. Loss: 2.181 |  Val. PPL:   8.854\n",
            "Epoch: 21 | Time: 0m 16s\n",
            "\tTrain Loss: 0.827 | Train PPL:   2.287\n",
            "\t Val. Loss: 2.163 |  Val. PPL:   8.695\n",
            "Epoch: 22 | Time: 0m 16s\n",
            "\tTrain Loss: 0.800 | Train PPL:   2.226\n",
            "\t Val. Loss: 2.163 |  Val. PPL:   8.697\n",
            "Epoch: 23 | Time: 0m 16s\n",
            "\tTrain Loss: 0.777 | Train PPL:   2.176\n",
            "\t Val. Loss: 2.194 |  Val. PPL:   8.971\n",
            "Epoch: 24 | Time: 0m 16s\n",
            "\tTrain Loss: 0.753 | Train PPL:   2.123\n",
            "\t Val. Loss: 2.197 |  Val. PPL:   8.999\n",
            "Epoch: 25 | Time: 0m 16s\n",
            "\tTrain Loss: 0.731 | Train PPL:   2.077\n",
            "\t Val. Loss: 2.187 |  Val. PPL:   8.908\n",
            "Epoch: 26 | Time: 0m 16s\n",
            "\tTrain Loss: 0.714 | Train PPL:   2.041\n",
            "\t Val. Loss: 2.184 |  Val. PPL:   8.884\n",
            "Epoch: 27 | Time: 0m 16s\n",
            "\tTrain Loss: 0.689 | Train PPL:   1.991\n",
            "\t Val. Loss: 2.217 |  Val. PPL:   9.178\n",
            "Epoch: 28 | Time: 0m 16s\n",
            "\tTrain Loss: 0.668 | Train PPL:   1.950\n",
            "\t Val. Loss: 2.207 |  Val. PPL:   9.086\n",
            "Epoch: 29 | Time: 0m 16s\n",
            "\tTrain Loss: 0.653 | Train PPL:   1.921\n",
            "\t Val. Loss: 2.226 |  Val. PPL:   9.259\n",
            "Epoch: 30 | Time: 0m 16s\n",
            "\tTrain Loss: 0.637 | Train PPL:   1.891\n",
            "\t Val. Loss: 2.220 |  Val. PPL:   9.211\n",
            "Epoch: 31 | Time: 0m 16s\n",
            "\tTrain Loss: 0.620 | Train PPL:   1.859\n",
            "\t Val. Loss: 2.229 |  Val. PPL:   9.293\n",
            "Epoch: 32 | Time: 0m 16s\n",
            "\tTrain Loss: 0.611 | Train PPL:   1.842\n",
            "\t Val. Loss: 2.240 |  Val. PPL:   9.389\n",
            "Epoch: 33 | Time: 0m 16s\n",
            "\tTrain Loss: 0.589 | Train PPL:   1.803\n",
            "\t Val. Loss: 2.243 |  Val. PPL:   9.423\n",
            "Epoch: 34 | Time: 0m 16s\n",
            "\tTrain Loss: 0.584 | Train PPL:   1.793\n",
            "\t Val. Loss: 2.255 |  Val. PPL:   9.538\n",
            "Epoch: 35 | Time: 0m 16s\n",
            "\tTrain Loss: 0.572 | Train PPL:   1.772\n",
            "\t Val. Loss: 2.257 |  Val. PPL:   9.551\n",
            "Epoch: 36 | Time: 0m 16s\n",
            "\tTrain Loss: 0.555 | Train PPL:   1.742\n",
            "\t Val. Loss: 2.267 |  Val. PPL:   9.648\n",
            "Epoch: 37 | Time: 0m 16s\n",
            "\tTrain Loss: 0.547 | Train PPL:   1.728\n",
            "\t Val. Loss: 2.272 |  Val. PPL:   9.700\n",
            "Epoch: 38 | Time: 0m 16s\n",
            "\tTrain Loss: 0.534 | Train PPL:   1.706\n",
            "\t Val. Loss: 2.288 |  Val. PPL:   9.857\n",
            "Epoch: 39 | Time: 0m 16s\n",
            "\tTrain Loss: 0.522 | Train PPL:   1.685\n",
            "\t Val. Loss: 2.263 |  Val. PPL:   9.610\n",
            "Epoch: 40 | Time: 0m 16s\n",
            "\tTrain Loss: 0.511 | Train PPL:   1.667\n",
            "\t Val. Loss: 2.300 |  Val. PPL:   9.978\n"
          ],
          "name": "stdout"
        }
      ]
    },
    {
      "cell_type": "markdown",
      "metadata": {
        "id": "QdwHO9iQbglh"
      },
      "source": [
        "### Test the model"
      ]
    },
    {
      "cell_type": "code",
      "metadata": {
        "id": "ieIjql9uPKH1"
      },
      "source": [
        "def generate_code(sentence, src_field, trg_field, model, device, max_len = 80):\n",
        "    \n",
        "    model.eval()\n",
        "        \n",
        "    if isinstance(sentence, str):\n",
        "        nlp = spacy.load('en')\n",
        "        tokens = [token.text.lower() for token in nlp(sentence)]\n",
        "    else:\n",
        "        tokens = [token.lower() for token in sentence]\n",
        "\n",
        "    tokens = [src_field.init_token] + tokens + [src_field.eos_token]\n",
        "        \n",
        "    src_indexes = [src_field.vocab.stoi[token] for token in tokens]\n",
        "\n",
        "    src_tensor = torch.LongTensor(src_indexes).unsqueeze(0).to(device)\n",
        "    \n",
        "    src_mask = model.make_src_mask(src_tensor)\n",
        "    \n",
        "    with torch.no_grad():\n",
        "        enc_src = model.encoder(src_tensor, src_mask)\n",
        "\n",
        "    trg_indexes = [trg_field.vocab.stoi[trg_field.init_token]]\n",
        "\n",
        "    for i in range(max_len):\n",
        "\n",
        "        trg_tensor = torch.LongTensor(trg_indexes).unsqueeze(0).to(device)\n",
        "\n",
        "        trg_mask = model.make_trg_mask(trg_tensor)\n",
        "        \n",
        "        with torch.no_grad():\n",
        "            output, attention = model.decoder(trg_tensor, enc_src, trg_mask, src_mask)\n",
        "        \n",
        "        pred_token = output.argmax(2)[:,-1].item()\n",
        "        \n",
        "        trg_indexes.append(pred_token)\n",
        "\n",
        "        if pred_token == trg_field.vocab.stoi[trg_field.eos_token]:\n",
        "            break\n",
        "    \n",
        "    trg_tokens = [trg_field.vocab.itos[i] for i in trg_indexes]\n",
        "    \n",
        "    return trg_tokens[1:], attention"
      ],
      "execution_count": 118,
      "outputs": []
    },
    {
      "cell_type": "code",
      "metadata": {
        "id": "KrFP716REj5r"
      },
      "source": [
        "def display_attention(sentence, translation, attention, n_heads = 8, n_rows = 4, n_cols = 2):\n",
        "    \n",
        "    assert n_rows * n_cols == n_heads\n",
        "    \n",
        "    fig = plt.figure(figsize=(30,50))\n",
        "    \n",
        "    for i in range(n_heads):\n",
        "        \n",
        "        ax = fig.add_subplot(n_rows, n_cols, i+1)\n",
        "        \n",
        "        _attention = attention.squeeze(0)[i].cpu().detach().numpy()\n",
        "\n",
        "        cax = ax.matshow(_attention, cmap='bone')\n",
        "\n",
        "        ax.tick_params(labelsize=12)\n",
        "        ax.set_xticklabels(['']+['<sos>']+[t.lower() for t in sentence]+['<eos>'], \n",
        "                           rotation=45)\n",
        "        ax.set_yticklabels(['']+translation)\n",
        "\n",
        "        ax.xaxis.set_major_locator(ticker.MultipleLocator(1))\n",
        "        ax.yaxis.set_major_locator(ticker.MultipleLocator(1))\n",
        "\n",
        "    plt.show()"
      ],
      "execution_count": 51,
      "outputs": []
    },
    {
      "cell_type": "code",
      "metadata": {
        "colab": {
          "base_uri": "https://localhost:8080/"
        },
        "id": "Os0rkAVJEkxg",
        "outputId": "b89231a8-6fdd-4d82-d1f9-8e7ff58853bb"
      },
      "source": [
        "example_idx = 47\n",
        "\n",
        "src = vars(train_data.examples[example_idx])['src']\n",
        "trg = vars(train_data.examples[example_idx])['trg']\n",
        "\n",
        "print(f'src = {src}')\n",
        "print(f'trg = {trg}')"
      ],
      "execution_count": 148,
      "outputs": [
        {
          "output_type": "stream",
          "text": [
            "src = ['#', 'write', 'a', 'python', 'function', 'to', 'convert', 'a', 'string', 'to', 'a', 'list']\n",
            "trg = ['def', 'convert_str_to_list(string', ')', ':', '\\n    ', 'return', 'string.split', '(', \"'\", \"'\", ')']\n"
          ],
          "name": "stdout"
        }
      ]
    },
    {
      "cell_type": "code",
      "metadata": {
        "colab": {
          "base_uri": "https://localhost:8080/"
        },
        "id": "0w90Pr0CF4dG",
        "outputId": "c75734f2-a918-49aa-81af-aabc276f2301"
      },
      "source": [
        "code_snippet, attention = generate_code(src, SRC, TRG, model, device)\n",
        "\n",
        "print(f'predicted trg = {code_snippet}')"
      ],
      "execution_count": 149,
      "outputs": [
        {
          "output_type": "stream",
          "text": [
            "predicted trg = ['def', 'convert_str_to_list(string', ')', ':', '\\n    ', 'return', 'string.split', '(', \"'\", \"'\", ')', ')', '<eos>']\n"
          ],
          "name": "stdout"
        }
      ]
    },
    {
      "cell_type": "code",
      "metadata": {
        "colab": {
          "base_uri": "https://localhost:8080/",
          "height": 1000
        },
        "id": "nOXf5v9fGXUg",
        "outputId": "fdaa397c-251e-4729-9478-c37108937e3d"
      },
      "source": [
        "display_attention(src, code_snippet, attention)"
      ],
      "execution_count": 150,
      "outputs": [
        {
          "output_type": "display_data",
          "data": {
            "image/png": "[encoded data removed]",
            "text/plain": [
              "<Figure size 2160x3600 with 8 Axes>"
            ]
          },
          "metadata": {
            "tags": [],
            "needs_background": "light"
          }
        }
      ]
    },
    {
      "cell_type": "markdown",
      "metadata": {
        "id": "SzZrF7KFJoi8"
      },
      "source": [
        "### Examples"
      ]
    },
    {
      "cell_type": "markdown",
      "metadata": {
        "id": "M8MofQ5ZPiTr"
      },
      "source": [
        "Example: 1"
      ]
    },
    {
      "cell_type": "code",
      "metadata": {
        "colab": {
          "base_uri": "https://localhost:8080/"
        },
        "id": "VKmomDC33Fob",
        "outputId": "64d76caf-f8c9-428a-d8ce-76e09e4c7f4f"
      },
      "source": [
        "input_text = 'write a function to return the perimeter of a isoscales triangle'\n",
        "\n",
        "print(input_text)\n",
        "print('---')\n",
        "code_snippet, attention = generate_code(input_text, SRC, TRG, model, device)\n",
        "print(' '.join(code_snippet).replace('<eos>', ''))"
      ],
      "execution_count": 205,
      "outputs": [
        {
          "output_type": "stream",
          "text": [
            "write a function to return the perimeter of a isoscales triangle\n",
            "---\n",
            "def cal_perimeter_iso_triangle(s1,s2 ) : \n",
            "     return 2*s1+s2 \n"
          ],
          "name": "stdout"
        }
      ]
    },
    {
      "cell_type": "markdown",
      "metadata": {
        "id": "wTR8wVYcRUBN"
      },
      "source": [
        "Example: 2"
      ]
    },
    {
      "cell_type": "code",
      "metadata": {
        "colab": {
          "base_uri": "https://localhost:8080/"
        },
        "id": "Qtp9spoVEptt",
        "outputId": "7d680359-af4a-4f9d-b033-a45876f89705"
      },
      "source": [
        "input_text = 'write a python function to add two numbers'\n",
        "\n",
        "print(input_text)\n",
        "print('---')\n",
        "code_snippet, attention = generate_code(input_text, SRC, TRG, model, device)\n",
        "print(' '.join(code_snippet).replace('<eos>', ''))"
      ],
      "execution_count": 169,
      "outputs": [
        {
          "output_type": "stream",
          "text": [
            "write a python function to add two numbers\n",
            "---\n",
            "def add_two_numbers(num1 , num2 ) : \n",
            "     sum = num1 + num2 \n",
            "     return sum \n"
          ],
          "name": "stdout"
        }
      ]
    },
    {
      "cell_type": "markdown",
      "metadata": {
        "id": "f4SXKa3CRZmf"
      },
      "source": [
        "Example: 3"
      ]
    },
    {
      "cell_type": "code",
      "metadata": {
        "colab": {
          "base_uri": "https://localhost:8080/"
        },
        "id": "YkIiEkTPPy-d",
        "outputId": "d6a9ca68-7099-41ba-ebfb-82992703d28f"
      },
      "source": [
        "input_text = 'write a function to return the area of an ellipse'\n",
        "\n",
        "print(input_text)\n",
        "print('---')\n",
        "code_snippet, attention = generate_code(input_text, SRC, TRG, model, device)\n",
        "print(' '.join(code_snippet).replace('<eos>', ''))"
      ],
      "execution_count": 204,
      "outputs": [
        {
          "output_type": "stream",
          "text": [
            "write a function to return the area of an ellipse\n",
            "---\n",
            "def cal_area_ellipse(minor , major ) : \n",
            "     pi = 3.14 \n",
            "     return pi*(minor*major ) \n"
          ],
          "name": "stdout"
        }
      ]
    },
    {
      "cell_type": "markdown",
      "metadata": {
        "id": "8AxcAhXsRa_6"
      },
      "source": [
        "Example: 4"
      ]
    },
    {
      "cell_type": "code",
      "metadata": {
        "colab": {
          "base_uri": "https://localhost:8080/"
        },
        "id": "Ntcp9UXLPzLg",
        "outputId": "778b49bb-5eb4-4b31-9d6d-e3e07a11eb9f"
      },
      "source": [
        "input_text = 'write a function to return the perimeter of an equilateral triangle'\n",
        "\n",
        "print(input_text)\n",
        "print('---')\n",
        "code_snippet, attention = generate_code(input_text, SRC, TRG, model, device)\n",
        "print(' '.join(code_snippet).replace('<eos>', ''))"
      ],
      "execution_count": 207,
      "outputs": [
        {
          "output_type": "stream",
          "text": [
            "write a function to return the perimeter of an equilateral triangle\n",
            "---\n",
            "def cal_perimeter_eq_triangle(a ) : \n",
            "     return 3*a \n"
          ],
          "name": "stdout"
        }
      ]
    },
    {
      "cell_type": "markdown",
      "metadata": {
        "id": "X51M4SQvRchr"
      },
      "source": [
        "Example: 5"
      ]
    },
    {
      "cell_type": "code",
      "metadata": {
        "colab": {
          "base_uri": "https://localhost:8080/"
        },
        "id": "-j1x5xHdPzYR",
        "outputId": "9ecf410f-9fdd-42c5-a02f-e3e2cfe2645f"
      },
      "source": [
        "input_text = 'write a function to return the surface area of a sphere'\n",
        "\n",
        "print(input_text)\n",
        "print('---')\n",
        "code_snippet, attention = generate_code(input_text, SRC, TRG, model, device)\n",
        "print(' '.join(code_snippet).replace('<eos>', ''))"
      ],
      "execution_count": 208,
      "outputs": [
        {
          "output_type": "stream",
          "text": [
            "write a function to return the surface area of a sphere\n",
            "---\n",
            "def cal_area_sphere(radius ) : \n",
            "     pi = 3.14 \n",
            "     return 4*pi*(radius**2 ) \n"
          ],
          "name": "stdout"
        }
      ]
    },
    {
      "cell_type": "markdown",
      "metadata": {
        "id": "BZVUj763ReO4"
      },
      "source": [
        "Example: 6"
      ]
    },
    {
      "cell_type": "code",
      "metadata": {
        "colab": {
          "base_uri": "https://localhost:8080/"
        },
        "id": "GK3Uh7cfPznl",
        "outputId": "99407318-76be-4f6b-e11d-f1ff667c02c2"
      },
      "source": [
        "input_text = 'write a function to return the total surface area of a cylinder'\n",
        "\n",
        "print(input_text)\n",
        "print('---')\n",
        "code_snippet, attention = generate_code(input_text, SRC, TRG, model, device)\n",
        "print(' '.join(code_snippet).replace('<eos>', ''))"
      ],
      "execution_count": 209,
      "outputs": [
        {
          "output_type": "stream",
          "text": [
            "write a function to return the total surface area of a cylinder\n",
            "---\n",
            "def cal_cylinder_volume(height , radius ) : \n",
            "     pi=3.14 \n",
            "     return pi*(radius**2)*height \n"
          ],
          "name": "stdout"
        }
      ]
    },
    {
      "cell_type": "markdown",
      "metadata": {
        "id": "6f4P9H8mRfin"
      },
      "source": [
        "Example: 7"
      ]
    },
    {
      "cell_type": "code",
      "metadata": {
        "colab": {
          "base_uri": "https://localhost:8080/"
        },
        "id": "iq8nrONsPz1l",
        "outputId": "c9eaeef0-1dcf-481c-f6fb-47f87538c032"
      },
      "source": [
        "input_text = 'write a function to return the area of triangle by heros formula'\n",
        "\n",
        "print(input_text)\n",
        "print('---')\n",
        "code_snippet, attention = generate_code(input_text, SRC, TRG, model, device)\n",
        "print(' '.join(code_snippet).replace('<eos>', ''))"
      ],
      "execution_count": 211,
      "outputs": [
        {
          "output_type": "stream",
          "text": [
            "write a function to return the area of triangle by heros formula\n",
            "---\n",
            "def cal_triangle_area(a : float , b : float , c : float)->float : \n",
            "     if a or b or c : \n",
            "         s = ( a+b+c)/2 \n",
            "         if s > a and s > b and s > c : \n",
            "             area = ( s*(s - a)*(s - b)*(s - c))**(1/2 ) \n",
            "             return round(area,2 ) \n",
            "         else : \n",
            "             return none \n",
            "     return none \n"
          ],
          "name": "stdout"
        }
      ]
    },
    {
      "cell_type": "markdown",
      "metadata": {
        "id": "Q9JfVpc6RhQg"
      },
      "source": [
        "Example: 8"
      ]
    },
    {
      "cell_type": "code",
      "metadata": {
        "colab": {
          "base_uri": "https://localhost:8080/"
        },
        "id": "3lVthHmUP0BZ",
        "outputId": "4c99de46-fbbb-43fb-9834-56f62d7cf478"
      },
      "source": [
        "input_text = 'write a function to return the cartisian distance between two points'\n",
        "\n",
        "print(input_text)\n",
        "print('---')\n",
        "code_snippet, attention = generate_code(input_text, SRC, TRG, model, device)\n",
        "print(' '.join(code_snippet).replace('<eos>', ''))"
      ],
      "execution_count": 212,
      "outputs": [
        {
          "output_type": "stream",
          "text": [
            "write a function to return the cartisian distance between two points\n",
            "---\n",
            "def cal_cart_distance(x1 : float , y1 : float , x2 : float , y2 : float)->float : \n",
            "     return ( ( x1-x2)**2+(y1-y2)**2)**(1/2 ) \n"
          ],
          "name": "stdout"
        }
      ]
    },
    {
      "cell_type": "markdown",
      "metadata": {
        "id": "cyXvXgC6Rigw"
      },
      "source": [
        "Example: 9"
      ]
    },
    {
      "cell_type": "code",
      "metadata": {
        "colab": {
          "base_uri": "https://localhost:8080/"
        },
        "id": "BUBYCJEKP0L6",
        "outputId": "2586e638-cdf8-49a8-9868-9a04983f1ba6"
      },
      "source": [
        "input_text = 'function to find fibonacci sequence'\n",
        "\n",
        "print(input_text)\n",
        "print('---')\n",
        "code_snippet, attention = generate_code(input_text, SRC, TRG, model, device)\n",
        "print(' '.join(code_snippet).replace('<eos>', ''))"
      ],
      "execution_count": 262,
      "outputs": [
        {
          "output_type": "stream",
          "text": [
            "function to find fibonacci sequence\n",
            "---\n",
            "\n",
            " def fibonacci(n ) : \n",
            "     if n<0 : \n",
            "         print(\"incorrect input \" ) \n",
            "\n",
            "     elif n==0 : \n",
            "         return 0 \n",
            "\n",
            "     elif n==0 : \n",
            "         return 1 \n",
            "     else : \n",
            "         return fibonacci(n-1)+fibonacci(n-2 ) \n",
            "\n",
            "\n",
            "\n",
            " print(fibonacci(9 ) ) \n"
          ],
          "name": "stdout"
        }
      ]
    },
    {
      "cell_type": "markdown",
      "metadata": {
        "id": "-ld75G6vRjsF"
      },
      "source": [
        "Example: 10"
      ]
    },
    {
      "cell_type": "code",
      "metadata": {
        "colab": {
          "base_uri": "https://localhost:8080/"
        },
        "id": "wfVMSbFvP0Vz",
        "outputId": "61a31d3c-810c-4db4-ff2b-73d21c3f7061"
      },
      "source": [
        "input_text = 'function to validate email address using regex'\n",
        "\n",
        "print(input_text)\n",
        "print('---')\n",
        "code_snippet, attention = generate_code(input_text, SRC, TRG, model, device)\n",
        "print(' '.join(code_snippet).replace('<eos>', ''))"
      ],
      "execution_count": 227,
      "outputs": [
        {
          "output_type": "stream",
          "text": [
            "function to validate email address using regex\n",
            "---\n",
            "\n",
            " import re \n",
            "\n",
            " regex = ' ^[a - z0 - 9]+[\\._]?[a - z0 - 9]+[@]\\w+[.]\\w{2,3}$ ' \n",
            " def check(email ) : \n",
            "     if(re.search(regex , email ) ) : \n",
            "         print(\"valid email \" ) \n",
            "     else : \n",
            "         print(\"invalid email \" ) \n"
          ],
          "name": "stdout"
        }
      ]
    },
    {
      "cell_type": "markdown",
      "metadata": {
        "id": "nffZypcBRlXQ"
      },
      "source": [
        "Example: 11"
      ]
    },
    {
      "cell_type": "code",
      "metadata": {
        "colab": {
          "base_uri": "https://localhost:8080/"
        },
        "id": "EzdmqTShP0e7",
        "outputId": "00c0207b-9403-4824-a066-82c6e55f93f1"
      },
      "source": [
        "input_text = 'write a function to find factorial'\n",
        "\n",
        "print(input_text)\n",
        "print('---')\n",
        "code_snippet, attention = generate_code(input_text, SRC, TRG, model, device)\n",
        "print(' '.join(code_snippet).replace('<eos>', ''))"
      ],
      "execution_count": 232,
      "outputs": [
        {
          "output_type": "stream",
          "text": [
            "write a function to find factorial\n",
            "---\n",
            "\n",
            " def factorial(n ) : \n",
            "     if n = = 1 : \n",
            "         return 1 \n",
            "     else : \n",
            "         return n * factorial(n - 1 ) \n"
          ],
          "name": "stdout"
        }
      ]
    },
    {
      "cell_type": "markdown",
      "metadata": {
        "id": "8hQaZP7sRmkq"
      },
      "source": [
        "Example: 12"
      ]
    },
    {
      "cell_type": "code",
      "metadata": {
        "colab": {
          "base_uri": "https://localhost:8080/"
        },
        "id": "18q85SHlP0oN",
        "outputId": "ec6bc7dc-759d-451c-8cb2-3e4496d25db8"
      },
      "source": [
        "input_text = 'Write a function to adds two lists element wise'\n",
        "\n",
        "print(input_text)\n",
        "print('---')\n",
        "code_snippet, attention = generate_code(input_text, SRC, TRG, model, device)\n",
        "print(' '.join(code_snippet).replace('<eos>', ''))"
      ],
      "execution_count": 279,
      "outputs": [
        {
          "output_type": "stream",
          "text": [
            "Write a function to adds two lists element wise\n",
            "---\n",
            "def sub_listelements(l1 : list , l2 : list ) : \n",
            "     return [ i+j for i , j in zip(l1,l2 ) ] \n"
          ],
          "name": "stdout"
        }
      ]
    },
    {
      "cell_type": "markdown",
      "metadata": {
        "id": "ayEFEoUVRn4U"
      },
      "source": [
        "Example: 13"
      ]
    },
    {
      "cell_type": "code",
      "metadata": {
        "colab": {
          "base_uri": "https://localhost:8080/"
        },
        "id": "v_gW9aeMP0xt",
        "outputId": "a50e3fdc-18d4-44a3-fdf3-3a9542f25744"
      },
      "source": [
        "input_text = 'write a function to capitalize a string'\n",
        "\n",
        "print(input_text)\n",
        "print('---')\n",
        "code_snippet, attention = generate_code(input_text, SRC, TRG, model, device)\n",
        "print(' '.join(code_snippet).replace('<eos>', ''))"
      ],
      "execution_count": 236,
      "outputs": [
        {
          "output_type": "stream",
          "text": [
            "write a function to capitalize a string\n",
            "---\n",
            "\n",
            " def capitalize(s , lower_rest = false ) : \n",
            "   return ' ' .join([s[:1].upper ( ) , ( s[1:].lower ( ) if lower_rest else s[1 : ] ) ] ) \n"
          ],
          "name": "stdout"
        }
      ]
    },
    {
      "cell_type": "markdown",
      "metadata": {
        "id": "jiV1QBB5RpML"
      },
      "source": [
        "Example: 14"
      ]
    },
    {
      "cell_type": "code",
      "metadata": {
        "colab": {
          "base_uri": "https://localhost:8080/"
        },
        "id": "x8-udS4HP05n",
        "outputId": "c201c896-ee60-44a8-fe51-d1ebf2fdf9a0"
      },
      "source": [
        "input_text = 'write a Python function to find the single number in a list that doesnt occur twice'\n",
        "\n",
        "print(input_text)\n",
        "print('---')\n",
        "code_snippet, attention = generate_code(input_text, SRC, TRG, model, device)\n",
        "print(' '.join(code_snippet).replace('<eos>', ''))"
      ],
      "execution_count": 237,
      "outputs": [
        {
          "output_type": "stream",
          "text": [
            "write a Python function to find the single number in a list that doesnt occur twice\n",
            "---\n",
            "def single_number(arr ) : \n",
            "     result = 0 \n",
            "     for i in arr : \n",
            "         result ^= i \n",
            "     return result \n"
          ],
          "name": "stdout"
        }
      ]
    },
    {
      "cell_type": "markdown",
      "metadata": {
        "id": "cyv6C50LRrLU"
      },
      "source": [
        "Example: 15"
      ]
    },
    {
      "cell_type": "code",
      "metadata": {
        "colab": {
          "base_uri": "https://localhost:8080/"
        },
        "id": "W3HcWYIfP1CP",
        "outputId": "a1f417e6-78d5-4068-f726-6b1d3a5818de"
      },
      "source": [
        "input_text = 'Write a function to return the area of a equilateral triangle'\n",
        "\n",
        "print(input_text)\n",
        "print('---')\n",
        "code_snippet, attention = generate_code(input_text, SRC, TRG, model, device)\n",
        "print(' '.join(code_snippet).replace('<eos>', ''))"
      ],
      "execution_count": 277,
      "outputs": [
        {
          "output_type": "stream",
          "text": [
            "Write a function to return the area of a equilateral triangle\n",
            "---\n",
            "def cal_eq_triangle_area(a : float)->float : \n",
            "     if a : \n",
            "         return ( 3**(1/2))*(a**2)/4 \n",
            "     else : \n",
            "         return none \n"
          ],
          "name": "stdout"
        }
      ]
    },
    {
      "cell_type": "markdown",
      "metadata": {
        "id": "tz3reIYrRsjd"
      },
      "source": [
        "Example: 16"
      ]
    },
    {
      "cell_type": "code",
      "metadata": {
        "colab": {
          "base_uri": "https://localhost:8080/"
        },
        "id": "GNW37BoCP1LL",
        "outputId": "326419c8-42c6-4d45-97ab-76a09fd2564b"
      },
      "source": [
        "input_text = 'Write a program to check whether a file/path/direcory exists or not'\n",
        "\n",
        "print(input_text)\n",
        "print('---')\n",
        "code_snippet, attention = generate_code(input_text, SRC, TRG, model, device)\n",
        "print(' '.join(code_snippet).replace('<eos>', ''))"
      ],
      "execution_count": 241,
      "outputs": [
        {
          "output_type": "stream",
          "text": [
            "Write a program to check whether a file/path/direcory exists or not\n",
            "---\n",
            "file_path = \" path / here \" \n",
            " import os.path \n",
            " os.path.exists(file_path ) \n"
          ],
          "name": "stdout"
        }
      ]
    },
    {
      "cell_type": "markdown",
      "metadata": {
        "id": "gqYFakdXRuSQ"
      },
      "source": [
        "Example: 17"
      ]
    },
    {
      "cell_type": "code",
      "metadata": {
        "colab": {
          "base_uri": "https://localhost:8080/"
        },
        "id": "lsdkKTXKP1UY",
        "outputId": "cf67f73e-d5c6-4641-c15e-f3ca0b23ee1f"
      },
      "source": [
        "input_text = 'Write a function to find volume of a cuboid'\n",
        "\n",
        "print(input_text)\n",
        "print('---')\n",
        "code_snippet, attention = generate_code(input_text, SRC, TRG, model, device)\n",
        "print(' '.join(code_snippet).replace('<eos>', ''))"
      ],
      "execution_count": 271,
      "outputs": [
        {
          "output_type": "stream",
          "text": [
            "Write a function to find volume of a cuboid\n",
            "---\n",
            "def cal_cuboid_volume(length : float , breadth : float)->float : \n",
            "     return length*breadth*height / length \n"
          ],
          "name": "stdout"
        }
      ]
    },
    {
      "cell_type": "markdown",
      "metadata": {
        "id": "2l0vGurSRwMr"
      },
      "source": [
        "Example: 18"
      ]
    },
    {
      "cell_type": "code",
      "metadata": {
        "colab": {
          "base_uri": "https://localhost:8080/"
        },
        "id": "MUWcynHdP1ds",
        "outputId": "c45cb2d8-b4fb-4398-80fa-1bd31c7c3227"
      },
      "source": [
        "input_text = 'Write a function to calculate volume of Triangular Pyramid'\n",
        "\n",
        "print(input_text)\n",
        "print('---')\n",
        "code_snippet, attention = generate_code(input_text, SRC, TRG, model, device)\n",
        "print(' '.join(code_snippet).replace('<eos>', ''))"
      ],
      "execution_count": 243,
      "outputs": [
        {
          "output_type": "stream",
          "text": [
            "Write a function to calculate volume of Triangular Pyramid\n",
            "---\n",
            "def volumetriangular(a , b , h ) : \n",
            "     return ( 0.1666 ) * a * b * h \n"
          ],
          "name": "stdout"
        }
      ]
    },
    {
      "cell_type": "markdown",
      "metadata": {
        "id": "Mj95xEENRxm5"
      },
      "source": [
        "Example: 19"
      ]
    },
    {
      "cell_type": "code",
      "metadata": {
        "colab": {
          "base_uri": "https://localhost:8080/"
        },
        "id": "14oY-wiIP1ni",
        "outputId": "132b8e8f-aba0-423b-d2ef-fb5fa423148e"
      },
      "source": [
        "input_text = 'Write a python function to determine if a year is leap year or not'\n",
        "\n",
        "print(input_text)\n",
        "print('---')\n",
        "code_snippet, attention = generate_code(input_text, SRC, TRG, model, device)\n",
        "print(' '.join(code_snippet).replace('<eos>', ''))"
      ],
      "execution_count": 246,
      "outputs": [
        {
          "output_type": "stream",
          "text": [
            "Write a python function to determine if a year is leap year or not\n",
            "---\n",
            "\n",
            " year = int(input(\"enter a year : \") ) \n",
            " if ( year % 4 ) = = 0 : \n",
            "    if ( year % 100 ) = = 0 : \n",
            "        if ( year % 400 ) = = 0 : \n",
            "            print(f\"{year } is a leap year \" ) \n",
            "        else : \n",
            "            print(f\"{year } is not a leap year \" ) \n",
            "    else : \n",
            "        print(f\"{year } is not a leap year \" ) \n",
            " else :\n"
          ],
          "name": "stdout"
        }
      ]
    },
    {
      "cell_type": "markdown",
      "metadata": {
        "id": "D6AsTyFqRz1E"
      },
      "source": [
        "Example: 20"
      ]
    },
    {
      "cell_type": "code",
      "metadata": {
        "colab": {
          "base_uri": "https://localhost:8080/"
        },
        "id": "R2fKBUOnP2Ps",
        "outputId": "ce836912-e109-4087-dab9-3efe31486ce2"
      },
      "source": [
        "input_text = 'Write a python function to find gcd using eucliean algorithm'\n",
        "\n",
        "print(input_text)\n",
        "print('---')\n",
        "code_snippet, attention = generate_code(input_text, SRC, TRG, model, device)\n",
        "print(' '.join(code_snippet).replace('<eos>', ''))"
      ],
      "execution_count": 248,
      "outputs": [
        {
          "output_type": "stream",
          "text": [
            "Write a python function to find gcd using eucliean algorithm\n",
            "---\n",
            "\n",
            " def compute_gcd(x , y ) : \n",
            "     if x > y : \n",
            "         smaller = y \n",
            "     else : \n",
            "         smaller = x \n",
            "     for i in range(1,smaller + 1 ) : \n",
            "         if((x % i = = 0 ) and ( y % i = = 0 ) ) : \n",
            "             hcf = i \n",
            "     return hcf \n",
            "\n",
            " num1 = 54 \n",
            " num2 = 24 \n",
            "\n",
            " print(\"the h.c.f . is \" , compute_hcf(num1 , num2 ) ) \n"
          ],
          "name": "stdout"
        }
      ]
    },
    {
      "cell_type": "markdown",
      "metadata": {
        "id": "qvB1P42qR1Rh"
      },
      "source": [
        "Example: 21"
      ]
    },
    {
      "cell_type": "code",
      "metadata": {
        "colab": {
          "base_uri": "https://localhost:8080/"
        },
        "id": "rypceP2CP2be",
        "outputId": "da175587-f297-4cd6-f593-62c871597eea"
      },
      "source": [
        "input_text = 'Write a python program to flatten  a multidimensional list'\n",
        "\n",
        "print(input_text)\n",
        "print('---')\n",
        "code_snippet, attention = generate_code(input_text, SRC, TRG, model, device)\n",
        "print(' '.join(code_snippet).replace('<eos>', ''))"
      ],
      "execution_count": 249,
      "outputs": [
        {
          "output_type": "stream",
          "text": [
            "Write a python program to flatten  a multidimensional list\n",
            "---\n",
            "mylist = [ 1 , 2 , 3 , 4 , 5 ] \n",
            " mylist = [ i for i in mylist if i ] \n"
          ],
          "name": "stdout"
        }
      ]
    },
    {
      "cell_type": "markdown",
      "metadata": {
        "id": "pf9eWKZ9R2jd"
      },
      "source": [
        "Example: 22"
      ]
    },
    {
      "cell_type": "code",
      "metadata": {
        "colab": {
          "base_uri": "https://localhost:8080/"
        },
        "id": "3Kz0xWTRP2lm",
        "outputId": "02bcf86e-0f4e-4717-bc63-dafddf40c345"
      },
      "source": [
        "input_text = 'Write a program to check whether a number is prime or not'\n",
        "\n",
        "print(input_text)\n",
        "print('---')\n",
        "code_snippet, attention = generate_code(input_text, SRC, TRG, model, device)\n",
        "print(' '.join(code_snippet).replace('<eos>', ''))"
      ],
      "execution_count": 266,
      "outputs": [
        {
          "output_type": "stream",
          "text": [
            "Write a program to check whether a number is prime or not\n",
            "---\n",
            "\n",
            " num = 407 \n",
            "\n",
            "\n",
            " if num > 1 : \n",
            "    for i in range(2,num ) : \n",
            "        if ( num % i ) = = 0 : \n",
            "            print(num,\"is not a prime number \" ) \n",
            "            print(i,\"times\",num//i,\"is\",num ) \n",
            "            break \n",
            "    else : \n",
            "        print(num,\"is a prime number \" ) \n",
            "\n",
            " else : \n",
            "    print(num,\"is not a prime number \" ) \n"
          ],
          "name": "stdout"
        }
      ]
    },
    {
      "cell_type": "markdown",
      "metadata": {
        "id": "TMlBTqTlR35z"
      },
      "source": [
        "Example: 23"
      ]
    },
    {
      "cell_type": "code",
      "metadata": {
        "colab": {
          "base_uri": "https://localhost:8080/"
        },
        "id": "FhXkDiHQP2yQ",
        "outputId": "54d5f27f-168c-4ec8-8968-8a721aab1202"
      },
      "source": [
        "input_text = 'write a program to find and print the largest among three numbers'\n",
        "\n",
        "print(input_text)\n",
        "print('---')\n",
        "code_snippet, attention = generate_code(input_text, SRC, TRG, model, device)\n",
        "print(' '.join(code_snippet).replace('<eos>', ''))"
      ],
      "execution_count": 263,
      "outputs": [
        {
          "output_type": "stream",
          "text": [
            "write a program to find and print the largest among three numbers\n",
            "---\n",
            "\n",
            " num1 = 10 \n",
            " num2 = 12 \n",
            " num3 = 14 \n",
            " if ( num1 > = num2 ) and ( num1 > = num3 ) : \n",
            "    largest = num1 \n",
            " elif ( num2 > = num1 ) and ( num2 > = num3 ) : \n",
            "    largest = num2 \n",
            " else : \n",
            "    largest = num3 \n",
            " print(f'largest:{largest } ' ) \n"
          ],
          "name": "stdout"
        }
      ]
    },
    {
      "cell_type": "markdown",
      "metadata": {
        "id": "_UqFWKDCR5Ez"
      },
      "source": [
        "Example: 24"
      ]
    },
    {
      "cell_type": "code",
      "metadata": {
        "colab": {
          "base_uri": "https://localhost:8080/"
        },
        "id": "lOkv8bIzP28J",
        "outputId": "2d1d8256-148a-49c6-e838-dbd3b107f75d"
      },
      "source": [
        "input_text = 'write a python function to calculate simple interest'\n",
        "\n",
        "print(input_text)\n",
        "print('---')\n",
        "code_snippet, attention = generate_code(input_text, SRC, TRG, model, device)\n",
        "print(' '.join(code_snippet).replace('<eos>', ''))"
      ],
      "execution_count": 194,
      "outputs": [
        {
          "output_type": "stream",
          "text": [
            "write a python function to calculate simple interest\n",
            "---\n",
            "def simple_interest(p , t , r ) : \n",
            "     si = ( p * t * r)/100 \n",
            "     return si \n"
          ],
          "name": "stdout"
        }
      ]
    },
    {
      "cell_type": "markdown",
      "metadata": {
        "id": "BP_b6GehR6kn"
      },
      "source": [
        "Example: 25"
      ]
    },
    {
      "cell_type": "code",
      "metadata": {
        "colab": {
          "base_uri": "https://localhost:8080/"
        },
        "id": "Y0Ld1vkTP3G7",
        "outputId": "e4a4df15-b69b-469a-ead5-0615394f8571"
      },
      "source": [
        "input_text = 'write a python program to print all numbers in an interval'\n",
        "\n",
        "print(input_text)\n",
        "print('---')\n",
        "code_snippet, attention = generate_code(input_text, SRC, TRG, model, device)\n",
        "print(' '.join(code_snippet).replace('<eos>', ''))"
      ],
      "execution_count": 259,
      "outputs": [
        {
          "output_type": "stream",
          "text": [
            "write a python program to print all numbers in an interval\n",
            "---\n",
            "num = 12 \n",
            " for i in range(1 , 11 ) : \n",
            "    print(num , i , i , i , ' = ' , num*i ) \n"
          ],
          "name": "stdout"
        }
      ]
    },
    {
      "cell_type": "markdown",
      "metadata": {
        "id": "NbM_PmM7iMDn"
      },
      "source": [
        "--- END ---"
      ]
    }
  ]
}